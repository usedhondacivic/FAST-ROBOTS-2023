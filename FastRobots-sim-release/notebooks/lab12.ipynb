{
 "cells": [
  {
   "cell_type": "markdown",
   "metadata": {
    "tags": []
   },
   "source": [
    "# Lab 12\n",
    "\n",
    "### oh its lab 12 alright lets gooooooo little robot"
   ]
  },
  {
   "cell_type": "code",
   "execution_count": 1,
   "metadata": {
    "tags": []
   },
   "outputs": [
    {
     "name": "stdout",
     "output_type": "stream",
     "text": [
      "2023-05-09 10:38:21,817 |\u001b[32m INFO     \u001b[0m|: Logger demo_notebook.log initialized.\n",
      "2023-05-09 10:38:22,506 |\u001b[32m INFO     \u001b[0m|: Looking for Artemis Nano Peripheral Device: c0:83:0c:66:2f:3c\n",
      "2023-05-09 10:38:25,457 |\u001b[31m ERROR    \u001b[0m|: [org.bluez.Error.Failed] le-connection-abort-by-local\n",
      "2023-05-09 10:38:26,460 |\u001b[33m WARNING  \u001b[0m|: Attempting to connect again...\n",
      "2023-05-09 10:38:26,462 |\u001b[32m INFO     \u001b[0m|: Looking for Artemis Nano Peripheral Device: c0:83:0c:66:2f:3c\n",
      "2023-05-09 10:38:30,141 |\u001b[31m ERROR    \u001b[0m|: [org.bluez.Error.Failed] le-connection-abort-by-local\n",
      "2023-05-09 10:38:31,144 |\u001b[33m WARNING  \u001b[0m|: Attempting to connect again...\n",
      "2023-05-09 10:38:31,146 |\u001b[32m INFO     \u001b[0m|: Looking for Artemis Nano Peripheral Device: c0:83:0c:66:2f:3c\n",
      "2023-05-09 10:38:34,739 |\u001b[32m INFO     \u001b[0m|: Connected to c0:83:0c:66:2f:3c\n"
     ]
    },
    {
     "name": "stderr",
     "output_type": "stream",
     "text": [
      "/home/michael/Documents/Cornell/FAST-ROBOTS/FAST-ROBOTS-2023/FastRobots-sim-release/notebooks/base_ble.py:87: FutureWarning: This method will be removed future version, pass the callback to the BleakClient constructor instead.\n",
      "  self.client.set_disconnected_callback(self.disconnect_handler)\n"
     ]
    }
   ],
   "source": [
    "%load_ext autoreload\n",
    "%autoreload 2\n",
    "\n",
    "import traceback\n",
    "from notebook_utils import *\n",
    "from Traj import *\n",
    "import asyncio\n",
    "import pathlib\n",
    "import os\n",
    "from utils import load_config_params\n",
    "from localization_extras import Localization\n",
    "\n",
    "# The imports below will only work if you copied the required ble-related python files \n",
    "# into the notebooks directory\n",
    "from ble import get_ble_controller\n",
    "from base_ble import LOG\n",
    "from cmd_types import CMD\n",
    "import numpy as np\n",
    "\n",
    "import time\n",
    "import math\n",
    "import csv\n",
    "import re\n",
    "\n",
    "import matplotlib as mpl\n",
    "import matplotlib.pyplot as plt\n",
    "\n",
    "# Setup Logger\n",
    "LOG = get_logger('demo_notebook.log')\n",
    "LOG.propagate = False\n",
    "\n",
    "# Init GUI and Commander\n",
    "gui = GET_GUI()\n",
    "cmdr = gui.launcher.commander\n",
    "\n",
    "# Start the plotter\n",
    "START_PLOTTER()\n",
    "\n",
    "from enum import IntEnum\n",
    "\n",
    "class MODE_TYPE(IntEnum):\n",
    "    SEEK_ANGLE = 0\n",
    "    TAKE_READINGS = 1\n",
    "    MOVE_FORWARD = 2\n",
    "    BRAKE = 3\n",
    "    BUG = 4\n",
    "    \n",
    "log_complete = False\n",
    "\n",
    "class RealRobot():\n",
    "    \"\"\"A class to interact with the real robot\n",
    "    \"\"\"\n",
    "    def __init__(self, commander, ble):\n",
    "        # Load world config\n",
    "        self.world_config = os.path.join(str(pathlib.Path(os.getcwd()).parent), \"config\", \"world.yaml\")\n",
    "        \n",
    "        self.config_params = load_config_params(self.world_config)\n",
    "        \n",
    "        # Commander to commuincate with the Plotter process\n",
    "        # Used by the Localization module to plot odom and belief\n",
    "        self.cmdr = commander\n",
    "\n",
    "        # ArtemisBLEController to communicate with the Robot\n",
    "        self.ble = ble\n",
    "\n",
    "    def get_pose(self):\n",
    "        \"\"\"Get robot pose based on odometry\n",
    "        \n",
    "        Returns:\n",
    "            current_odom -- Odometry Pose (meters, meters, degrees)\n",
    "        \"\"\"\n",
    "        raise NotImplementedError(\"get_pose is not implemented\")\n",
    "\n",
    "    async def perform_observation_loop(self, rot_vel=120):\n",
    "        \"\"\"Perform the observation loop behavior on the real robot, where the robot does  \n",
    "        a 360 degree turn in place while collecting equidistant (in the angular space) sensor\n",
    "        readings, with the first sensor reading taken at the robot's current heading. \n",
    "        The number of sensor readings depends on \"observations_count\"(=18) defined in world.yaml.\n",
    "        \n",
    "        Keyword arguments:\n",
    "            rot_vel -- (Optional) Angular Velocity for loop (degrees/second)\n",
    "                        Do not remove this parameter from the function definition, even if you don't use it.\n",
    "        Returns:\n",
    "            sensor_ranges   -- A column numpy array of the range values (meters)\n",
    "            sensor_bearings -- A column numpy array of the bearings at which the sensor readings were taken (degrees)\n",
    "                               The bearing values are not used in the Localization module, so you may return a empty numpy array\n",
    "        \"\"\"\n",
    "        \n",
    "        global tof\n",
    "        global pose\n",
    "        global CURR_LOG_ARRAY\n",
    "        global log_complete\n",
    "        \n",
    "        tof = []\n",
    "        pose = []\n",
    "        \n",
    "        print(\"starting reading\")\n",
    "        ble.send_command(CMD.SET_PID_GAINS,\"ROTATION_RATE:|-0.01:|-0.001:|0.0\")\n",
    "        ble.send_command(CMD.SET_PID_GAINS,\"ROTATION:|0.01:|0.0002:|0.0\")\n",
    "        ble.send_command(CMD.SET_TARGET, \"20\")\n",
    "        ble.send_command(CMD.SET_MODE, str(int(MODE_TYPE.TAKE_READINGS)))\n",
    "        ble.send_command(CMD.ENABLE_ROBOT, \"\")\n",
    "        await asyncio.sleep(20)\n",
    "        ble.send_command(CMD.SET_PID_GAINS,\"ROTATION:|0.02:|0.0002:|0.0\")\n",
    "        ble.send_command(CMD.SET_MODE, str(int(MODE_TYPE.BRAKE)))\n",
    "        ble.start_notify(ble.uuid['RX_STRING'], ble_msg_handler)\n",
    "        CURR_LOG_ARRAY = tof\n",
    "        print(\"Retrieving TOF\")\n",
    "        ble.send_command(CMD.RETRIEVE_BUFFER, \"TOF\")\n",
    "        while not log_complete:\n",
    "            await asyncio.sleep(0.5) \n",
    "        log_complete = False\n",
    "        print(\"TOF retrieved\")\n",
    "        CURR_LOG_ARRAY = pose\n",
    "        print(\"Retrieving POSE\")\n",
    "        ble.send_command(CMD.RETRIEVE_BUFFER, \"POSE\")\n",
    "        while not log_complete:\n",
    "            await asyncio.sleep(0.5) \n",
    "        log_complete = False\n",
    "        print(\"POSE retrieved\")\n",
    "        \n",
    "        bearings = [20, -20]\n",
    "        \n",
    "        tof = np.array(tof).astype('float64')\n",
    "        pose = np.array(pose).astype('float64')\n",
    "\n",
    "        ret_tof = np.zeros([18, 2])\n",
    "        temp = np.zeros([18, 3])\n",
    "\n",
    "        for i in range(0, 18):\n",
    "            angle = i * 20\n",
    "            angle_i = np.argmin(np.abs(pose[:, 3] - angle))\n",
    "            angle_t = pose[angle_i, 0]\n",
    "            angle = pose[angle_i, 3]\n",
    "            tof_reading = tof[np.argmin(np.abs(tof[:, 0] - angle_t)), 1:3] / 1000\n",
    "            temp[i, :] = [tof_reading[1], tof_reading[0], angle]\n",
    "            \n",
    "        ret_tof = temp[:, 0:2]\n",
    "        print(ret_tof)\n",
    "            \n",
    "        return ret_tof, bearings\n",
    "\n",
    "\n",
    "# Get ArtemisBLEController object\n",
    "ble = get_ble_controller()\n",
    "\n",
    "# Connect to the Artemis Device\n",
    "ble.connect()\n",
    "\n",
    "CURR_LOG_ARRAY = None\n",
    "tof = []\n",
    "pose = []\n",
    "log_complete = False\n",
    "\n",
    "def ble_msg_handler(sender, msg):\n",
    "    global log_complete\n",
    "    msg = msg.decode(\"utf-8\")\n",
    "    end_regex = r'<END BUFFER [a-z, A-Z]*>'\n",
    "    if re.search(end_regex, msg) != None:\n",
    "        print(\"Buffer read complete.\")\n",
    "        log_complete = True\n",
    "    msg_regex = r'[A-Za-z]*: -?(\\d*.?(?:\\d*)?)' # Match Data of the form \"[name]: [data]\"\n",
    "    data = re.findall(msg_regex, msg)\n",
    "    if data == None:\n",
    "        return\n",
    "    if len(data) == 0:\n",
    "        return\n",
    "    CURR_LOG_ARRAY.append(data)"
   ]
  },
  {
   "cell_type": "code",
   "execution_count": 2,
   "metadata": {
    "tags": []
   },
   "outputs": [
    {
     "name": "stdout",
     "output_type": "stream",
     "text": [
      "2023-05-09 10:38:42,140 |\u001b[32m INFO     \u001b[0m|:  | Number of observations per grid cell: 18\n",
      "2023-05-09 10:38:42,143 |\u001b[32m INFO     \u001b[0m|:  | Precaching Views...\n",
      "2023-05-09 10:38:42,450 |\u001b[32m INFO     \u001b[0m|:  | Precaching Time: 0.305 secs\n",
      "2023-05-09 10:38:42,453 |\u001b[32m INFO     \u001b[0m|: Initializing beliefs with a Uniform Distribution\n",
      "2023-05-09 10:38:42,456 |\u001b[32m INFO     \u001b[0m|: Uniform Belief with each cell value: 3.2150205761316875e-05\n"
     ]
    }
   ],
   "source": [
    "# Initialize RealRobot with a Commander object to communicate with the plotter process\n",
    "# and the ArtemisBLEController object to communicate with the real robot\n",
    "log_complete = False\n",
    "\n",
    "robot = RealRobot(cmdr, ble)\n",
    "\n",
    "# Initialize mapper\n",
    "# Requires a VirtualRobot object as a parameter\n",
    "mapper = Mapper(robot)\n",
    "\n",
    "# Initialize your BaseLocalization object\n",
    "# Requires a RealRobot object and a Mapper object as parameters\n",
    "loc = Localization(robot, mapper)\n",
    "\n",
    "## Plot Map\n",
    "cmdr.plot_map()"
   ]
  },
  {
   "cell_type": "markdown",
   "metadata": {},
   "source": [
    "# Run an update step of the Bayes Filter"
   ]
  },
  {
   "cell_type": "code",
   "execution_count": null,
   "metadata": {
    "tags": []
   },
   "outputs": [
    {
     "name": "stdout",
     "output_type": "stream",
     "text": [
      "2023-05-09 10:38:44,224 |\u001b[32m INFO     \u001b[0m|: Initializing beliefs with a Uniform Distribution\n",
      "2023-05-09 10:38:44,227 |\u001b[32m INFO     \u001b[0m|: Uniform Belief with each cell value: 3.2150205761316875e-05\n",
      "[[0.7 0.2]\n",
      " [0.7 1.3]]\n",
      "starting reading\n",
      "Retrieving TOF\n",
      "Buffer read complete.\n",
      "TOF retrieved\n",
      "Retrieving POSE\n",
      "Buffer read complete.\n",
      "POSE retrieved\n",
      "[[0.794 0.495]\n",
      " [0.668 0.512]\n",
      " [0.421 1.145]\n",
      " [0.533 1.301]\n",
      " [1.284 1.85 ]\n",
      " [1.405 0.707]\n",
      " [1.887 0.623]\n",
      " [0.523 0.543]\n",
      " [0.609 0.478]\n",
      " [0.51  0.5  ]\n",
      " [0.461 0.657]\n",
      " [0.491 0.624]\n",
      " [0.671 0.506]\n",
      " [0.539 0.496]\n",
      " [0.464 0.548]\n",
      " [0.476 0.78 ]\n",
      " [0.565 0.746]\n",
      " [0.808 0.62 ]]\n",
      "2023-05-09 10:39:22,638 |\u001b[32m INFO     \u001b[0m|: Update Step\n",
      "2023-05-09 10:39:22,759 |\u001b[32m INFO     \u001b[0m|:      | Update Time: 0.119 secs\n",
      "2023-05-09 10:39:22,762 |\u001b[32m INFO     \u001b[0m|: Bel index     : (14, 12, 34) with prob = 0.4493254\n",
      "2023-05-09 10:39:22,763 |\u001b[32m INFO     \u001b[0m|: Bel_bar prob at index = 3.2150205761316875e-05\n",
      "2023-05-09 10:39:22,765 |\u001b[32m INFO     \u001b[0m|: Belief        : (0.533, 0.533, -7.500)\n",
      "Guess at pose: [ 0.5334  0.5334 -7.5   ]\n",
      "[0.7 1.3]\n",
      "[0.5334 0.5334]\n",
      "Pose estimate: -7.5\n",
      "Angle to target: 80.2389498399404\n",
      "Distance to target: 0.7844941809854292\n",
      "Moving forward for: 1568.9883619708585\n",
      "starting reading\n",
      "Retrieving TOF\n",
      "2023-05-09 10:39:59,635 |\u001b[32m INFO     \u001b[0m|: Disconnected from C0:83:0C:66:2F:3C\n"
     ]
    }
   ],
   "source": [
    "# Reset Plots\n",
    "cmdr.reset_plotter()\n",
    "\n",
    "# Init Uniform Belief\n",
    "loc.init_grid_beliefs()\n",
    "\n",
    "# points = np.array([[-4, -3], [-2, -1], [1, -1], [2, -3], [5, -3], [5, -2], [5, 3], [0, 3], [0, 0]])\n",
    "\n",
    "# points = points * 0.3048\n",
    "\n",
    "points = np.array([[0.7,0.2], [0.7, 1.3]])\n",
    "\n",
    "print(points)\n",
    "\n",
    "target_index = 1\n",
    "\n",
    "while True:\n",
    "    # Get Observation Data by executing a 360 degree rotation motion\n",
    "    await loc.get_observation_data()\n",
    "\n",
    "    # Run Update Step\n",
    "    loc.update_step()\n",
    "    loc.plot_update_step_data(plot_data=True)\n",
    "    \n",
    "    target = points[target_index, :]\n",
    "    pose_est = np.array(loc.get_current_estimate())\n",
    "    print(\"Guess at pose: \" + str(pose_est))\n",
    "    \n",
    "    print(target)\n",
    "    print(pose_est[0:2])\n",
    "    \n",
    "    if (np.abs(target - pose_est[0:2]) < 0.3).all():\n",
    "        print(\"Hit waypoint \" + str(target))\n",
    "        target_index+=1\n",
    "        target = points[target_index, :]\n",
    "        print(\"New target: \" + str(target))\n",
    "        \n",
    "    \n",
    "              \n",
    "    delta = target - pose_est[0:2]\n",
    "    \n",
    "    #ble.send_command(CMD.SET_GYRO, str(pose_est[2]))\n",
    "              \n",
    "    dist = np.linalg.norm(delta)\n",
    "    print(\"Pose estimate: \" + str(pose_est[2]))\n",
    "    angle = np.rad2deg(np.arctan2(delta[1], delta[0])) - pose_est[2] - 5.0\n",
    "    \n",
    "    print(\"Angle to target: \" + str(angle))\n",
    "    print(\"Distance to target: \" + str(dist))\n",
    "    \n",
    "    ble.send_command(CMD.SET_GYRO, \"0\")\n",
    "    ble.send_command(CMD.SET_TARGET, \"-20\")\n",
    "    ble.send_command(CMD.SET_PID_GAINS,\"ROTATION:|0.03:|0.0004:|0.0\")\n",
    "    ble.send_command(CMD.SET_MODE, str(int(MODE_TYPE.SEEK_ANGLE)))\n",
    "    await asyncio.sleep(3)\n",
    "    ble.send_command(CMD.SET_GYRO, \"0\")\n",
    "    ble.send_command(CMD.SET_TARGET, str(angle))\n",
    "    ble.send_command(CMD.SET_PID_GAINS,\"ROTATION:|0.03:|0.0004:|0.0\")\n",
    "    ble.send_command(CMD.SET_MODE, str(int(MODE_TYPE.SEEK_ANGLE)))\n",
    "    #ble.send_command(CMD.SET_PID_GAINS,\"ROTATION:|0.02:|0.0005:|0.0\")\n",
    "    await asyncio.sleep(3)\n",
    "    ble.send_command(CMD.SET_PID_GAINS,\"ROTATION:|0.03:|0.0004:|0.0\")\n",
    "    t = dist * 2000\n",
    "    print(\"Moving forward for: \" + str(t))\n",
    "    ble.send_command(CMD.SET_TARGET, str(t))\n",
    "    ble.send_command(CMD.SET_MODE, str(int(MODE_TYPE.MOVE_FORWARD)))\n",
    "    await asyncio.sleep(t / 1000.0 + 1)\n",
    "    ble.send_command(CMD.SET_PID_GAINS,\"ROTATION:|0.03:|0.0004:|0.0\")\n",
    "    ble.send_command(CMD.SET_MODE, str(int(MODE_TYPE.BRAKE)))\n",
    "    await asyncio.sleep(0.5)\n",
    "        \n",
    "    \n",
    "\n",
    "# Plot Odom and GT\n",
    "# current_odom, current_gt = robot.get_pose()\n",
    "# cmdr.plot_gt(current_gt[0], current_gt[1])\n",
    "# cmdr.plot_odom(current_odom[0], current_odom[1])"
   ]
  },
  {
   "cell_type": "code",
   "execution_count": 2,
   "metadata": {
    "tags": []
   },
   "outputs": [],
   "source": [
    "ble.send_command(CMD.SET_PID_GAINS,\"ROTATION_RATE:|-0.01:|-0.001:|0.0\")\n",
    "ble.send_command(CMD.SET_PID_GAINS,\"ROTATION:|0.01:|0.0002:|0.0\")\n",
    "ble.send_command(CMD.SET_TARGET, \"0\")\n",
    "ble.send_command(CMD.SET_GYRO, \"0\")\n",
    "ble.send_command(CMD.SET_MODE, str(int(MODE_TYPE.SEEK_ANGLE)))\n",
    "ble.send_command(CMD.ENABLE_ROBOT, \"\")"
   ]
  },
  {
   "cell_type": "code",
   "execution_count": 17,
   "metadata": {
    "tags": []
   },
   "outputs": [],
   "source": [
    "ble.send_command(CMD.SET_PID_GAINS,\"ROTATION:|0.001:|0.002:|0.0\")"
   ]
  },
  {
   "cell_type": "code",
   "execution_count": 6,
   "metadata": {
    "tags": []
   },
   "outputs": [],
   "source": [
    "ble.send_command(CMD.DISABLE_ROBOT, \"\")"
   ]
  },
  {
   "cell_type": "code",
   "execution_count": 5,
   "metadata": {},
   "outputs": [],
   "source": [
    "\n",
    "ble.send_command(CMD.SET_PID_GAINS,\"ROTATION:|0.012:|0.0003:|0.0\")\n",
    "ble.send_command(CMD.SET_TARGET, \"180\")"
   ]
  },
  {
   "cell_type": "code",
   "execution_count": null,
   "metadata": {},
   "outputs": [],
   "source": []
  },
  {
   "cell_type": "code",
   "execution_count": 6,
   "metadata": {},
   "outputs": [],
   "source": [
    "ble.send_command(CMD.SET_PID_GAINS,\"ROTATION_RATE:|-0.01:|-0.001:|0.0\")\n",
    "ble.send_command(CMD.SET_PID_GAINS,\"ROTATION:|0.01:|0.0002:|0.0\")\n",
    "ble.send_command(CMD.SET_TARGET, \"3000\")\n",
    "ble.send_command(CMD.SET_GYRO, \"0\")\n",
    "ble.send_command(CMD.SET_MODE, str(int(MODE_TYPE.MOVE_FORWARD)))\n",
    "ble.send_command(CMD.ENABLE_ROBOT, \"\")\n"
   ]
  },
  {
   "cell_type": "code",
   "execution_count": 3,
   "metadata": {
    "tags": []
   },
   "outputs": [
    {
     "ename": "Exception",
     "evalue": "Not connected to a BLE device",
     "output_type": "error",
     "traceback": [
      "\u001b[0;31m---------------------------------------------------------------------------\u001b[0m",
      "\u001b[0;31mException\u001b[0m                                 Traceback (most recent call last)",
      "Cell \u001b[0;32mIn[3], line 1\u001b[0m\n\u001b[0;32m----> 1\u001b[0m \u001b[43mble\u001b[49m\u001b[38;5;241;43m.\u001b[39;49m\u001b[43msend_command\u001b[49m\u001b[43m(\u001b[49m\u001b[43mCMD\u001b[49m\u001b[38;5;241;43m.\u001b[39;49m\u001b[43mDISABLE_ROBOT\u001b[49m\u001b[43m,\u001b[49m\u001b[43m \u001b[49m\u001b[38;5;124;43m\"\u001b[39;49m\u001b[38;5;124;43m\"\u001b[39;49m\u001b[43m)\u001b[49m\n",
      "File \u001b[0;32m~/Documents/Cornell/FAST-ROBOTS/FAST-ROBOTS-2023/FastRobots-sim-release/notebooks/ble.py:151\u001b[0m, in \u001b[0;36mArtemisBLEController.send_command\u001b[0;34m(self, cmd_type, data)\u001b[0m\n\u001b[1;32m    148\u001b[0m cmd_string \u001b[38;5;241m=\u001b[39m \u001b[38;5;28mstr\u001b[39m(cmd_type\u001b[38;5;241m.\u001b[39mvalue) \u001b[38;5;241m+\u001b[39m \u001b[38;5;124m\"\u001b[39m\u001b[38;5;124m:\u001b[39m\u001b[38;5;124m\"\u001b[39m \u001b[38;5;241m+\u001b[39m \u001b[38;5;28mstr\u001b[39m(data)\n\u001b[1;32m    150\u001b[0m \u001b[38;5;28;01mif\u001b[39;00m \u001b[38;5;28mlen\u001b[39m(cmd_string) \u001b[38;5;241m<\u001b[39m \u001b[38;5;28mself\u001b[39m\u001b[38;5;241m.\u001b[39mmax_write_length:\n\u001b[0;32m--> 151\u001b[0m     \u001b[38;5;28;43mself\u001b[39;49m\u001b[38;5;241;43m.\u001b[39;49m\u001b[43mwrite\u001b[49m\u001b[43m(\u001b[49m\u001b[38;5;28;43mself\u001b[39;49m\u001b[38;5;241;43m.\u001b[39;49m\u001b[43muuid\u001b[49m\u001b[43m[\u001b[49m\u001b[38;5;124;43m'\u001b[39;49m\u001b[38;5;124;43mTX_CMD_STRING\u001b[39;49m\u001b[38;5;124;43m'\u001b[39;49m\u001b[43m]\u001b[49m\u001b[43m,\u001b[49m\u001b[43m \u001b[49m\u001b[38;5;28;43mbytearray\u001b[39;49m\u001b[43m(\u001b[49m\u001b[38;5;28;43mmap\u001b[39;49m\u001b[43m(\u001b[49m\u001b[38;5;28;43mord\u001b[39;49m\u001b[43m,\u001b[49m\u001b[43m \u001b[49m\u001b[43mcmd_string\u001b[49m\u001b[43m)\u001b[49m\u001b[43m)\u001b[49m\u001b[43m)\u001b[49m\n\u001b[1;32m    152\u001b[0m \u001b[38;5;28;01melse\u001b[39;00m:\n\u001b[1;32m    153\u001b[0m     \u001b[38;5;28;01mraise\u001b[39;00m \u001b[38;5;167;01mException\u001b[39;00m(\u001b[38;5;124m\"\u001b[39m\u001b[38;5;124mCannot write string larger than \u001b[39m\u001b[38;5;132;01m{}\u001b[39;00m\u001b[38;5;124m bytes\u001b[39m\u001b[38;5;124m\"\u001b[39m\u001b[38;5;241m.\u001b[39mformat(\n\u001b[1;32m    154\u001b[0m         \u001b[38;5;28mself\u001b[39m\u001b[38;5;241m.\u001b[39mmax_write_length))\n",
      "File \u001b[0;32m~/Documents/Cornell/FAST-ROBOTS/FAST-ROBOTS-2023/FastRobots-sim-release/notebooks/ble.py:75\u001b[0m, in \u001b[0;36mBaseBLEController.write\u001b[0;34m(self, uuid, byte_array)\u001b[0m\n\u001b[1;32m     74\u001b[0m \u001b[38;5;28;01mdef\u001b[39;00m \u001b[38;5;21mwrite\u001b[39m(\u001b[38;5;28mself\u001b[39m, uuid, byte_array):\n\u001b[0;32m---> 75\u001b[0m     \u001b[38;5;28;43mself\u001b[39;49m\u001b[38;5;241;43m.\u001b[39;49m\u001b[43m_wait\u001b[49m\u001b[43m(\u001b[49m\u001b[38;5;28;43mself\u001b[39;49m\u001b[38;5;241;43m.\u001b[39;49m\u001b[43mdevice\u001b[49m\u001b[38;5;241;43m.\u001b[39;49m\u001b[43m_write\u001b[49m\u001b[43m(\u001b[49m\u001b[43muuid\u001b[49m\u001b[43m,\u001b[49m\u001b[43m \u001b[49m\u001b[43mbyte_array\u001b[49m\u001b[43m)\u001b[49m\u001b[43m)\u001b[49m\n",
      "File \u001b[0;32m~/Documents/Cornell/FAST-ROBOTS/FAST-ROBOTS-2023/FastRobots-sim-release/notebooks/base_ble.py:27\u001b[0m, in \u001b[0;36mwait_b\u001b[0;34m(coroutine)\u001b[0m\n\u001b[1;32m     26\u001b[0m \u001b[38;5;28;01mdef\u001b[39;00m \u001b[38;5;21mwait_b\u001b[39m(coroutine):\n\u001b[0;32m---> 27\u001b[0m     \u001b[38;5;28;01mreturn\u001b[39;00m \u001b[43masyncio\u001b[49m\u001b[38;5;241;43m.\u001b[39;49m\u001b[43mrun\u001b[49m\u001b[43m(\u001b[49m\u001b[43mcoroutine\u001b[49m\u001b[43m)\u001b[49m\n",
      "File \u001b[0;32m~/Documents/Cornell/FAST-ROBOTS/FastRobots_ble/lib/python3.10/site-packages/nest_asyncio.py:35\u001b[0m, in \u001b[0;36m_patch_asyncio.<locals>.run\u001b[0;34m(main, debug)\u001b[0m\n\u001b[1;32m     33\u001b[0m task \u001b[38;5;241m=\u001b[39m asyncio\u001b[38;5;241m.\u001b[39mensure_future(main)\n\u001b[1;32m     34\u001b[0m \u001b[38;5;28;01mtry\u001b[39;00m:\n\u001b[0;32m---> 35\u001b[0m     \u001b[38;5;28;01mreturn\u001b[39;00m \u001b[43mloop\u001b[49m\u001b[38;5;241;43m.\u001b[39;49m\u001b[43mrun_until_complete\u001b[49m\u001b[43m(\u001b[49m\u001b[43mtask\u001b[49m\u001b[43m)\u001b[49m\n\u001b[1;32m     36\u001b[0m \u001b[38;5;28;01mfinally\u001b[39;00m:\n\u001b[1;32m     37\u001b[0m     \u001b[38;5;28;01mif\u001b[39;00m \u001b[38;5;129;01mnot\u001b[39;00m task\u001b[38;5;241m.\u001b[39mdone():\n",
      "File \u001b[0;32m~/Documents/Cornell/FAST-ROBOTS/FastRobots_ble/lib/python3.10/site-packages/nest_asyncio.py:90\u001b[0m, in \u001b[0;36m_patch_loop.<locals>.run_until_complete\u001b[0;34m(self, future)\u001b[0m\n\u001b[1;32m     87\u001b[0m \u001b[38;5;28;01mif\u001b[39;00m \u001b[38;5;129;01mnot\u001b[39;00m f\u001b[38;5;241m.\u001b[39mdone():\n\u001b[1;32m     88\u001b[0m     \u001b[38;5;28;01mraise\u001b[39;00m \u001b[38;5;167;01mRuntimeError\u001b[39;00m(\n\u001b[1;32m     89\u001b[0m         \u001b[38;5;124m'\u001b[39m\u001b[38;5;124mEvent loop stopped before Future completed.\u001b[39m\u001b[38;5;124m'\u001b[39m)\n\u001b[0;32m---> 90\u001b[0m \u001b[38;5;28;01mreturn\u001b[39;00m \u001b[43mf\u001b[49m\u001b[38;5;241;43m.\u001b[39;49m\u001b[43mresult\u001b[49m\u001b[43m(\u001b[49m\u001b[43m)\u001b[49m\n",
      "File \u001b[0;32m/usr/lib/python3.10/asyncio/futures.py:201\u001b[0m, in \u001b[0;36mFuture.result\u001b[0;34m(self)\u001b[0m\n\u001b[1;32m    199\u001b[0m \u001b[38;5;28mself\u001b[39m\u001b[38;5;241m.\u001b[39m__log_traceback \u001b[38;5;241m=\u001b[39m \u001b[38;5;28;01mFalse\u001b[39;00m\n\u001b[1;32m    200\u001b[0m \u001b[38;5;28;01mif\u001b[39;00m \u001b[38;5;28mself\u001b[39m\u001b[38;5;241m.\u001b[39m_exception \u001b[38;5;129;01mis\u001b[39;00m \u001b[38;5;129;01mnot\u001b[39;00m \u001b[38;5;28;01mNone\u001b[39;00m:\n\u001b[0;32m--> 201\u001b[0m     \u001b[38;5;28;01mraise\u001b[39;00m \u001b[38;5;28mself\u001b[39m\u001b[38;5;241m.\u001b[39m_exception\u001b[38;5;241m.\u001b[39mwith_traceback(\u001b[38;5;28mself\u001b[39m\u001b[38;5;241m.\u001b[39m_exception_tb)\n\u001b[1;32m    202\u001b[0m \u001b[38;5;28;01mreturn\u001b[39;00m \u001b[38;5;28mself\u001b[39m\u001b[38;5;241m.\u001b[39m_result\n",
      "File \u001b[0;32m/usr/lib/python3.10/asyncio/tasks.py:232\u001b[0m, in \u001b[0;36mTask.__step\u001b[0;34m(***failed resolving arguments***)\u001b[0m\n\u001b[1;32m    228\u001b[0m \u001b[38;5;28;01mtry\u001b[39;00m:\n\u001b[1;32m    229\u001b[0m     \u001b[38;5;28;01mif\u001b[39;00m exc \u001b[38;5;129;01mis\u001b[39;00m \u001b[38;5;28;01mNone\u001b[39;00m:\n\u001b[1;32m    230\u001b[0m         \u001b[38;5;66;03m# We use the `send` method directly, because coroutines\u001b[39;00m\n\u001b[1;32m    231\u001b[0m         \u001b[38;5;66;03m# don't have `__iter__` and `__next__` methods.\u001b[39;00m\n\u001b[0;32m--> 232\u001b[0m         result \u001b[38;5;241m=\u001b[39m \u001b[43mcoro\u001b[49m\u001b[38;5;241;43m.\u001b[39;49m\u001b[43msend\u001b[49m\u001b[43m(\u001b[49m\u001b[38;5;28;43;01mNone\u001b[39;49;00m\u001b[43m)\u001b[49m\n\u001b[1;32m    233\u001b[0m     \u001b[38;5;28;01melse\u001b[39;00m:\n\u001b[1;32m    234\u001b[0m         result \u001b[38;5;241m=\u001b[39m coro\u001b[38;5;241m.\u001b[39mthrow(exc)\n",
      "File \u001b[0;32m~/Documents/Cornell/FAST-ROBOTS/FAST-ROBOTS-2023/FastRobots-sim-release/notebooks/base_ble.py:102\u001b[0m, in \u001b[0;36mBLEAsyncDevice._write\u001b[0;34m(self, uuid, byte_array)\u001b[0m\n\u001b[1;32m    100\u001b[0m     \u001b[38;5;28;01mawait\u001b[39;00m \u001b[38;5;28mself\u001b[39m\u001b[38;5;241m.\u001b[39mclient\u001b[38;5;241m.\u001b[39mwrite_gatt_char(uuid, byte_array,response\u001b[38;5;241m=\u001b[39m\u001b[38;5;28;01mTrue\u001b[39;00m)\n\u001b[1;32m    101\u001b[0m \u001b[38;5;28;01melse\u001b[39;00m:\n\u001b[0;32m--> 102\u001b[0m     \u001b[38;5;28;01mraise\u001b[39;00m \u001b[38;5;167;01mException\u001b[39;00m(\u001b[38;5;124m\"\u001b[39m\u001b[38;5;124mNot connected to a BLE device\u001b[39m\u001b[38;5;124m\"\u001b[39m)\n",
      "\u001b[0;31mException\u001b[0m: Not connected to a BLE device"
     ]
    }
   ],
   "source": [
    "ble.send_command(CMD.DISABLE_ROBOT, \"\")"
   ]
  },
  {
   "cell_type": "code",
   "execution_count": 2,
   "metadata": {},
   "outputs": [
    {
     "name": "stdout",
     "output_type": "stream",
     "text": [
      "2023-05-08 18:22:25,386 |\u001b[32m INFO     \u001b[0m|: Disconnected from C0:83:0C:66:2F:3C\n"
     ]
    }
   ],
   "source": [
    "ble.send_command(CMD.SET_MODE, str(int(MODE_TYPE.BUG)))\n",
    "ble.send_command(CMD.ENABLE_ROBOT, \"\")"
   ]
  },
  {
   "cell_type": "code",
   "execution_count": null,
   "metadata": {},
   "outputs": [],
   "source": []
  }
 ],
 "metadata": {
  "kernelspec": {
   "display_name": "Python 3 (ipykernel)",
   "language": "python",
   "name": "python3"
  },
  "language_info": {
   "codemirror_mode": {
    "name": "ipython",
    "version": 3
   },
   "file_extension": ".py",
   "mimetype": "text/x-python",
   "name": "python",
   "nbconvert_exporter": "python",
   "pygments_lexer": "ipython3",
   "version": "3.10.6"
  }
 },
 "nbformat": 4,
 "nbformat_minor": 4
}
