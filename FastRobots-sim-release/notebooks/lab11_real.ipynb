{
 "cells": [
  {
   "cell_type": "markdown",
   "metadata": {
    "tags": []
   },
   "source": [
    "# Lab 11: Grid Localization using Bayes Filter (Real Robot)\n",
    "\n",
    "### <span style=\"color:rgb(0,150,0)\">It is recommended that you close any heavy-duty applications running on your system while working on this lab.</span>\n",
    "\n",
    "### <span style=\"color:rgb(0,150,0)\">The notebook only provides skeleton code for you to integrate the Localization class with the Real Robot.</span>\n",
    "\n",
    "<hr>"
   ]
  },
  {
   "cell_type": "code",
   "execution_count": 1,
   "metadata": {
    "tags": []
   },
   "outputs": [
    {
     "name": "stdout",
     "output_type": "stream",
     "text": [
      "2023-04-27 17:01:51,151 |\u001b[32m INFO     \u001b[0m|: Logger demo_notebook.log initialized.\n"
     ]
    }
   ],
   "source": [
    "%load_ext autoreload\n",
    "%autoreload 2\n",
    "\n",
    "import traceback\n",
    "from notebook_utils import *\n",
    "from Traj import *\n",
    "import asyncio\n",
    "import pathlib\n",
    "import os\n",
    "from utils import load_config_params\n",
    "from localization_extras import Localization\n",
    "\n",
    "# The imports below will only work if you copied the required ble-related python files \n",
    "# into the notebooks directory\n",
    "from ble import get_ble_controller\n",
    "from base_ble import LOG\n",
    "from cmd_types import CMD\n",
    "import numpy as np\n",
    "\n",
    "import time\n",
    "import math\n",
    "import csv\n",
    "import re\n",
    "\n",
    "import matplotlib as mpl\n",
    "import matplotlib.pyplot as plt\n",
    "\n",
    "# Setup Logger\n",
    "LOG = get_logger('demo_notebook.log')\n",
    "LOG.propagate = False\n",
    "\n",
    "# Init GUI and Commander\n",
    "gui = GET_GUI()\n",
    "cmdr = gui.launcher.commander"
   ]
  },
  {
   "cell_type": "code",
   "execution_count": 2,
   "metadata": {
    "tags": []
   },
   "outputs": [],
   "source": [
    "# Start the plotter\n",
    "START_PLOTTER()"
   ]
  },
  {
   "cell_type": "markdown",
   "metadata": {
    "tags": []
   },
   "source": [
    "# The RealRobot class\n",
    "Define the RealRobot class in the code cell below, based on the documentation and your real robot communication protocol. <br>\n",
    "This class is used by the **Localization** class to communicate with the real robot. <br>\n",
    "More specifically, the **Localization** class utilizes the **RealRobot's** member function **perform_observation_loop()** to get the 18 sensor readings and store them in its member variable **obs_range_data**, which is then utilized in the update step."
   ]
  },
  {
   "cell_type": "code",
   "execution_count": 3,
   "metadata": {
    "tags": []
   },
   "outputs": [],
   "source": [
    "class RealRobot():\n",
    "    \"\"\"A class to interact with the real robot\n",
    "    \"\"\"\n",
    "    def __init__(self, commander, ble):\n",
    "        # Load world config\n",
    "        self.world_config = os.path.join(str(pathlib.Path(os.getcwd()).parent), \"config\", \"world.yaml\")\n",
    "        \n",
    "        self.config_params = load_config_params(self.world_config)\n",
    "        \n",
    "        # Commander to commuincate with the Plotter process\n",
    "        # Used by the Localization module to plot odom and belief\n",
    "        self.cmdr = commander\n",
    "\n",
    "        # ArtemisBLEController to communicate with the Robot\n",
    "        self.ble = ble\n",
    "\n",
    "    def get_pose(self):\n",
    "        \"\"\"Get robot pose based on odometry\n",
    "        \n",
    "        Returns:\n",
    "            current_odom -- Odometry Pose (meters, meters, degrees)\n",
    "        \"\"\"\n",
    "        raise NotImplementedError(\"get_pose is not implemented\")\n",
    "\n",
    "    async def perform_observation_loop(self, rot_vel=120):\n",
    "        \"\"\"Perform the observation loop behavior on the real robot, where the robot does  \n",
    "        a 360 degree turn in place while collecting equidistant (in the angular space) sensor\n",
    "        readings, with the first sensor reading taken at the robot's current heading. \n",
    "        The number of sensor readings depends on \"observations_count\"(=18) defined in world.yaml.\n",
    "        \n",
    "        Keyword arguments:\n",
    "            rot_vel -- (Optional) Angular Velocity for loop (degrees/second)\n",
    "                        Do not remove this parameter from the function definition, even if you don't use it.\n",
    "        Returns:\n",
    "            sensor_ranges   -- A column numpy array of the range values (meters)\n",
    "            sensor_bearings -- A column numpy array of the bearings at which the sensor readings were taken (degrees)\n",
    "                               The bearing values are not used in the Localization module, so you may return a empty numpy array\n",
    "        \"\"\"\n",
    "        \n",
    "        global tof\n",
    "        global pose\n",
    "        global CURR_LOG_ARRAY\n",
    "        \n",
    "        tof = []\n",
    "        pose = []\n",
    "        \n",
    "        print(\"starting reading\")\n",
    "        ble.send_command(CMD.ENABLE_BUFFER, \"POSE\")\n",
    "        ble.send_command(CMD.ENABLE_BUFFER, \"TOF\")\n",
    "        ble.send_command(CMD.SET_PID_GAINS,\"ROTATION:|-0.01:|-0.001:|0.0\")\n",
    "        ble.send_command(CMD.ENABLE_ROBOT, \"\")\n",
    "        await asyncio.sleep(20)\n",
    "        ble.send_command(CMD.DISABLE_ROBOT, \"\")\n",
    "        ble.send_command(CMD.DISABLE_BUFFER, \"POSE\")\n",
    "        ble.send_command(CMD.DISABLE_BUFFER, \"TOF\")\n",
    "        ble.start_notify(ble.uuid['RX_STRING'], ble_msg_handler)\n",
    "        CURR_LOG_ARRAY = tof\n",
    "        print(\"Retrieving TOF\")\n",
    "        ble.send_command(CMD.RETRIEVE_BUFFER, \"TOF\")\n",
    "        await asyncio.sleep(5)\n",
    "        print(\"TOF retrieved\")\n",
    "        CURR_LOG_ARRAY = pose\n",
    "        print(\"Retrieving POSE\")\n",
    "        ble.send_command(CMD.RETRIEVE_BUFFER, \"POSE\")\n",
    "        await asyncio.sleep(10)\n",
    "        print(\"POSE retrieved\")\n",
    "        \n",
    "        bearings = [20, -20]\n",
    "        \n",
    "        tof = np.array(tof).astype('float64')\n",
    "        pose = np.array(pose).astype('float64')\n",
    "\n",
    "        ret_tof = np.zeros([18, 2])\n",
    "        temp = np.zeros([18, 3])\n",
    "\n",
    "        for i in range(0, 18):\n",
    "            angle = i * 20\n",
    "            angle_i = np.argmin(np.abs(pose[:, 3] - angle))\n",
    "            angle_t = pose[angle_i, 0]\n",
    "            angle = pose[angle_i, 3]\n",
    "            tof_reading = tof[np.argmin(np.abs(tof[:, 0] - angle_t)), 1:3] / 1000\n",
    "            temp[i, :] = [tof_reading[1], tof_reading[0], angle]\n",
    "            \n",
    "        ret_tof = temp[:, 0:2]\n",
    "        print(ret_tof)\n",
    "            \n",
    "        return ret_tof, bearings\n"
   ]
  },
  {
   "cell_type": "code",
   "execution_count": 4,
   "metadata": {
    "tags": []
   },
   "outputs": [
    {
     "name": "stdout",
     "output_type": "stream",
     "text": [
      "2023-04-27 17:02:02,816 |\u001b[32m INFO     \u001b[0m|: Looking for Artemis Nano Peripheral Device: c0:83:0c:66:2f:3c\n",
      "2023-04-27 17:02:05,745 |\u001b[32m INFO     \u001b[0m|: Connected to c0:83:0c:66:2f:3c\n"
     ]
    },
    {
     "name": "stderr",
     "output_type": "stream",
     "text": [
      "/home/michael/Documents/Cornell/FAST-ROBOTS/FAST-ROBOTS-2023/FastRobots-sim-release/notebooks/base_ble.py:87: FutureWarning: This method will be removed future version, pass the callback to the BleakClient constructor instead.\n",
      "  self.client.set_disconnected_callback(self.disconnect_handler)\n"
     ]
    }
   ],
   "source": [
    "# Get ArtemisBLEController object\n",
    "ble = get_ble_controller()\n",
    "\n",
    "# Connect to the Artemis Device\n",
    "ble.connect()\n",
    "\n",
    "CURR_LOG_ARRAY = None\n",
    "tof = []\n",
    "pose = []\n",
    "log_complete = False\n",
    "\n",
    "def ble_msg_handler(sender, msg):\n",
    "    msg = msg.decode(\"utf-8\")\n",
    "    end_regex = r'<END BUFFER [a-z, A-Z]*>'\n",
    "    if re.search(end_regex, msg) != None:\n",
    "        print(\"Buffer read complete.\")\n",
    "        log_complete = True\n",
    "    msg_regex = r'[A-Za-z]*: -?(\\d*.?(?:\\d*)?)' # Match Data of the form \"[name]: [data]\"\n",
    "    data = re.findall(msg_regex, msg)\n",
    "    if data == None:\n",
    "        return\n",
    "    if len(data) == 0:\n",
    "        return\n",
    "    CURR_LOG_ARRAY.append(data)"
   ]
  },
  {
   "cell_type": "code",
   "execution_count": 5,
   "metadata": {
    "tags": []
   },
   "outputs": [
    {
     "name": "stdout",
     "output_type": "stream",
     "text": [
      "2023-04-27 17:02:10,462 |\u001b[32m INFO     \u001b[0m|:  | Number of observations per grid cell: 18\n",
      "2023-04-27 17:02:10,463 |\u001b[32m INFO     \u001b[0m|:  | Precaching Views...\n"
     ]
    },
    {
     "name": "stderr",
     "output_type": "stream",
     "text": [
      "/home/michael/Documents/Cornell/FAST-ROBOTS/FAST-ROBOTS-2023/FastRobots-sim-release/localization.py:155: RuntimeWarning: All-NaN slice encountered\n",
      "  return np.nanmin(distance_intersections_tt), intersections_tt[np.nanargmin(distance_intersections_tt)]\n"
     ]
    },
    {
     "name": "stdout",
     "output_type": "stream",
     "text": [
      "2023-04-27 17:02:16,231 |\u001b[32m INFO     \u001b[0m|:  | Precaching Time: 5.768 secs\n",
      "2023-04-27 17:02:16,232 |\u001b[32m INFO     \u001b[0m|: Initializing beliefs with a Uniform Distribution\n",
      "2023-04-27 17:02:16,232 |\u001b[32m INFO     \u001b[0m|: Uniform Belief with each cell value: 0.00051440329218107\n"
     ]
    }
   ],
   "source": [
    "# Initialize RealRobot with a Commander object to communicate with the plotter process\n",
    "# and the ArtemisBLEController object to communicate with the real robot\n",
    "robot = RealRobot(cmdr, ble)\n",
    "\n",
    "# Initialize mapper\n",
    "# Requires a VirtualRobot object as a parameter\n",
    "mapper = Mapper(robot)\n",
    "\n",
    "# Initialize your BaseLocalization object\n",
    "# Requires a RealRobot object and a Mapper object as parameters\n",
    "loc = Localization(robot, mapper)\n",
    "\n",
    "## Plot Map\n",
    "cmdr.plot_map()"
   ]
  },
  {
   "cell_type": "markdown",
   "metadata": {},
   "source": [
    "# Run an update step of the Bayes Filter"
   ]
  },
  {
   "cell_type": "code",
   "execution_count": 10,
   "metadata": {
    "tags": []
   },
   "outputs": [
    {
     "name": "stdout",
     "output_type": "stream",
     "text": [
      "2023-04-27 17:15:50,407 |\u001b[32m INFO     \u001b[0m|: Initializing beliefs with a Uniform Distribution\n",
      "2023-04-27 17:15:50,408 |\u001b[32m INFO     \u001b[0m|: Uniform Belief with each cell value: 0.00051440329218107\n",
      "starting reading\n",
      "Retrieving TOF\n",
      "Buffer read complete.\n",
      "TOF retrieved\n",
      "Retrieving POSE\n",
      "POSE retrieved\n",
      "[[2.416 0.845]\n",
      " [2.172 1.029]\n",
      " [0.872 1.618]\n",
      " [1.434 1.411]\n",
      " [1.5   1.394]\n",
      " [1.328 1.347]\n",
      " [1.448 0.831]\n",
      " [1.169 1.102]\n",
      " [0.772 1.559]\n",
      " [1.485 1.732]\n",
      " [1.564 2.057]\n",
      " [1.77  1.427]\n",
      " [1.917 0.862]\n",
      " [1.342 0.996]\n",
      " [0.81  1.86 ]\n",
      " [1.355 2.613]\n",
      " [1.8   2.442]\n",
      " [2.421 0.885]]\n",
      "2023-04-27 17:16:26,239 |\u001b[32m INFO     \u001b[0m|: Update Step\n",
      "2023-04-27 17:16:26,242 |\u001b[32m INFO     \u001b[0m|:      | Update Time: 0.002 secs\n",
      "2023-04-27 17:16:26,243 |\u001b[32m INFO     \u001b[0m|: Bel index     : (5, 4, 8) with prob = 0.9832120\n",
      "2023-04-27 17:16:26,244 |\u001b[32m INFO     \u001b[0m|: Bel_bar prob at index = 0.00051440329218107\n",
      "2023-04-27 17:16:26,245 |\u001b[32m INFO     \u001b[0m|: Belief        : (0.000, 0.000, -10.000)\n",
      "Buffer read complete.\n"
     ]
    }
   ],
   "source": [
    "# Reset Plots\n",
    "cmdr.reset_plotter()\n",
    "\n",
    "# Init Uniform Belief\n",
    "loc.init_grid_beliefs()\n",
    "\n",
    "# Get Observation Data by executing a 360 degree rotation motion\n",
    "await loc.get_observation_data()\n",
    "\n",
    "# Run Update Step\n",
    "loc.update_step()\n",
    "loc.plot_update_step_data(plot_data=True)\n",
    "\n",
    "# Plot Odom and GT\n",
    "# current_odom, current_gt = robot.get_pose()\n",
    "# cmdr.plot_gt(current_gt[0], current_gt[1])\n",
    "# cmdr.plot_odom(current_odom[0], current_odom[1])"
   ]
  },
  {
   "cell_type": "code",
   "execution_count": 7,
   "metadata": {
    "tags": []
   },
   "outputs": [
    {
     "name": "stdout",
     "output_type": "stream",
     "text": [
      "[[0.52792909 0.46425305]\n",
      " [1.79049664 0.46425305]\n",
      " [1.45962623 0.52792909]\n",
      " [1.3716     1.79049664]\n",
      " [1.45962623 1.45962623]\n",
      " [1.65964618 1.3716    ]\n",
      " [1.23183453 1.45962623]\n",
      " [1.08325711 1.65964618]\n",
      " [2.0117632  1.23183453]\n",
      " [2.28769271 1.08325711]\n",
      " [1.79049664 2.0117632 ]\n",
      " [0.81090346 2.28769271]\n",
      " [1.3716     1.79049664]\n",
      " [1.45962623 0.81090346]\n",
      " [1.79049664 1.3716    ]\n",
      " [1.93573998 1.45962623]\n",
      " [0.46425305 1.79049664]\n",
      " [0.46425305 1.93573998]]\n"
     ]
    }
   ],
   "source": [
    "loc = mapper.to_map(0,0,0)\n",
    "print(mapper.get_views(loc[0], loc[1], loc[2]))"
   ]
  },
  {
   "cell_type": "code",
   "execution_count": null,
   "metadata": {
    "tags": []
   },
   "outputs": [],
   "source": [
    "print(pose)\n"
   ]
  },
  {
   "cell_type": "code",
   "execution_count": null,
   "metadata": {
    "tags": []
   },
   "outputs": [],
   "source": [
    "STOP_PLOTTER()"
   ]
  },
  {
   "cell_type": "code",
   "execution_count": null,
   "metadata": {},
   "outputs": [],
   "source": []
  }
 ],
 "metadata": {
  "kernelspec": {
   "display_name": "Python 3 (ipykernel)",
   "language": "python",
   "name": "python3"
  },
  "language_info": {
   "codemirror_mode": {
    "name": "ipython",
    "version": 3
   },
   "file_extension": ".py",
   "mimetype": "text/x-python",
   "name": "python",
   "nbconvert_exporter": "python",
   "pygments_lexer": "ipython3",
   "version": "3.10.6"
  }
 },
 "nbformat": 4,
 "nbformat_minor": 4
}
