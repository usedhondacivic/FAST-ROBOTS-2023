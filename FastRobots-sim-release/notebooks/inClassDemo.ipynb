{
 "cells": [
  {
   "cell_type": "code",
   "execution_count": 1,
   "metadata": {
    "tags": []
   },
   "outputs": [
    {
     "name": "stdout",
     "output_type": "stream",
     "text": [
      "2023-04-13 12:36:27,245 |\u001b[32m INFO     \u001b[0m|: Logger demo_notebook.log initialized.\n"
     ]
    }
   ],
   "source": [
    "%load_ext autoreload\n",
    "%autoreload 2\n",
    "\n",
    "import traceback\n",
    "from notebook_utils import *\n",
    "import asyncio\n",
    "\n",
    "# Setup Logger\n",
    "LOG = get_logger('demo_notebook.log')\n",
    "\n",
    "# Init GUI and Commander\n",
    "gui = GET_GUI()\n",
    "cmdr = gui.launcher.commander"
   ]
  },
  {
   "cell_type": "markdown",
   "metadata": {},
   "source": [
    "# Start/Stop the Simulator and Plotter"
   ]
  },
  {
   "cell_type": "markdown",
   "metadata": {},
   "source": [
    "### OPTION 1: GUI\n",
    "- You can use a GUI to start, stop and track the running status of the simulator and plotter.\n",
    "- Run the below cell **only once** to render the GUI. You can then interact with the GUI using your mouse.\n",
    "- The GUI will not respond when the notebook's kernel is busy, just like any other cell."
   ]
  },
  {
   "cell_type": "code",
   "execution_count": 2,
   "metadata": {
    "tags": []
   },
   "outputs": [
    {
     "data": {
      "application/vnd.jupyter.widget-view+json": {
       "model_id": "fb9f87b8dad04525863144c489d21019",
       "version_major": 2,
       "version_minor": 0
      },
      "text/plain": [
       "TwoByTwoLayout(children=(Label(value='Simulator', layout=Layout(grid_area='top-left', width='80px')), HBox(chi…"
      ]
     },
     "metadata": {},
     "output_type": "display_data"
    }
   ],
   "source": [
    "gui.show()"
   ]
  },
  {
   "cell_type": "markdown",
   "metadata": {},
   "source": [
    "### OPTION 2: Programmatically\n",
    "You can also use functions to do the same."
   ]
  },
  {
   "cell_type": "code",
   "execution_count": null,
   "metadata": {},
   "outputs": [],
   "source": [
    "# Start the simulator\n",
    "START_SIM()\n",
    "\n",
    "# Start the plotter\n",
    "START_PLOTTER()"
   ]
  },
  {
   "cell_type": "code",
   "execution_count": null,
   "metadata": {},
   "outputs": [],
   "source": [
    "# Start the simulator\n",
    "STOP_SIM()\n",
    "\n",
    "# Start the plotter\n",
    "STOP_PLOTTER()"
   ]
  },
  {
   "cell_type": "code",
   "execution_count": null,
   "metadata": {},
   "outputs": [],
   "source": [
    "# Reset the simulator\n",
    "RESET_SIM()\n",
    "\n",
    "# Start the plotter\n",
    "RESET_PLOTTER()"
   ]
  },
  {
   "cell_type": "markdown",
   "metadata": {},
   "source": [
    "You can also quit each process by closing their respective windows.\n",
    "\n",
    "### Make sure there is only one running instance of the simulator and plotter to prevent any confusion."
   ]
  },
  {
   "cell_type": "markdown",
   "metadata": {},
   "source": [
    "<hr>\n",
    "\n",
    "# Interactions\n",
    "\n",
    "## Using your mouse and keyboard\n",
    "\n",
    "### Simulator\n",
    "- Press the up and down arrow keys to increase and decrease the linear velocity of the virtual robot, respectively.\n",
    "- Press the left and right arrow keys to increase to increase and decrease the angular velocity of the virtual robot, respectively.\n",
    "- Hit spacebar to stop the robot.\n",
    "- Press h to display the full keyboard map.\n",
    "\n",
    "### Plotter\n",
    "- Use the GUI buttons to show/hide the various plots.\n",
    "- Use your mouse to zoom in and out of the plot.\n",
    "- Press the \"A\" button (bottom-left to the plotting box and above \"Plotted Points\") to auto-fit the plot to your window.\n"
   ]
  },
  {
   "cell_type": "markdown",
   "metadata": {},
   "source": [
    " continu\n",
    "## Using the Commander class\n",
    "The **Commander** class (defined in *commander.py*) allows you to interact with the simulator and the plotter programmatically. <br>\n",
    "__NOTE__: The units of measurement are meters and radians.\n",
    "\n",
    "<table align=\"left\">\n",
    "    <tr>\n",
    "        <th style=\"text-align: left; font-size: medium\">Member Functions</th>\n",
    "        <th style=\"text-align: left; font-size: medium\">Description</th style=\"text-align: left\">\n",
    "    </tr>\n",
    "    <tr>\n",
    "        <th style=\"text-align: left\"><span style=\"font-family:monospace\">Utility Functions</span></th>\n",
    "    </tr>\n",
    "    <tr>\n",
    "        <th style=\"text-align: left\"><span style=\"color:rgb(201,152,4);font-family:monospace\">sim_is_running()</span></th>\n",
    "        <th style=\"text-align: left\"><span style=\"font-weight: normal\">Get the run status of the simulator.</span></th>\n",
    "    </tr>\n",
    "    <tr>\n",
    "        <th style=\"text-align: left\"><span style=\"color:rgb(201,152,4);font-family:monospace\">plotter_is_running()</span></th>\n",
    "        <th style=\"text-align: left\"><span style=\"font-weight: normal\">Get the run status of the plotter.</span></th>\n",
    "    </tr>\n",
    "    <tr>\n",
    "        <th style=\"text-align: left\"><span style=\"font-family:monospace\">Plotter Functions</span></th>\n",
    "    </tr>\n",
    "    <tr>\n",
    "        <th style=\"text-align: left\"><span style=\"color:rgb(201,152,4);font-family:monospace\">plot_odom(x,y)</span></th>\n",
    "        <th style=\"text-align: left\"><span style=\"font-weight: normal\">Plot a point (x,y) in the plotter in red. Units are (meters, meters).</span></th style=\"text-align: left\">\n",
    "    </tr>\n",
    "    <tr>\n",
    "        <th style=\"text-align: left\"><span style=\"color:rgb(201,152,4);font-family:monospace\">plot_gt(x,y)</span></th>\n",
    "        <th style=\"text-align: left\"><span style=\"font-weight: normal\">Plot a point (x,y) in the plotter in green. Units are (meters, meters).</span></th>\n",
    "    </tr>\n",
    "    <tr>\n",
    "        <th style=\"text-align: left\"><span style=\"color:rgb(201,152,4);font-family:monospace\">plot_bel(x,y)</span></th>\n",
    "        <th style=\"text-align: left\"><span style=\"font-weight: normal\">Plot a point (x,y) in the plotter in blue. Units are (meters, meters).</span></th>\n",
    "    </tr>\n",
    "    <tr>\n",
    "        <th style=\"text-align: left\"><span style=\"color:rgb(201,152,4);font-family:monospace\">plot_map()</span></th>\n",
    "        <th style=\"text-align: left\"><span style=\"font-weight: normal\">Plot the map based on the map lines in <em>world.yaml</em>.</span></th>\n",
    "    </tr>\n",
    "    <tr>\n",
    "        <th style=\"text-align: left\"><span style=\"color:rgb(201,152,4);font-family:monospace\">reset_plotter()</span></th>\n",
    "        <th style=\"text-align: left\"><span style=\"font-weight: normal\">Reset the plots in the plotter.</span></th>\n",
    "    </tr>\n",
    "    <tr>\n",
    "        <th style=\"text-align: left\"><span style=\"font-family:monospace\">Simulator Functions</span></th>\n",
    "    </tr>\n",
    "    <tr>\n",
    "        <th style=\"text-align: left\"><span style=\"color:rgb(201,152,4);font-family:monospace\">set_vel(linear_vel, angular_vel)</span></th>\n",
    "        <th style=\"text-align: left\"><span style=\"font-weight: normal\">Set the linear velocity (m/s) and angular velocity (rad/s) of the virtual robot.</span></th style=\"text-align: left\">\n",
    "    </tr>\n",
    "    <tr>\n",
    "        <th style=\"text-align: left\"><span style=\"color:rgb(201,152,4);font-family:monospace\">get_pose()</span></th>\n",
    "        <th style=\"text-align: left\"><span style=\"font-weight: normal\">Get the odometry and ground truth poses of the virtual robot as two numpy arrays. The units of each pose are (meters, meters, radians)</span></th>\n",
    "    </tr>\n",
    "    <tr>\n",
    "        <th style=\"text-align: left\"><span style=\"color:rgb(201,152,4);font-family:monospace\">get_sensor()</span></th>\n",
    "        <th style=\"text-align: left\"><span style=\"font-weight: normal\">Get the ToF sensor data (in meters) of the virtual robot as a numpy column array.</span></th>\n",
    "    </tr>\n",
    "    <tr>\n",
    "        <th style=\"text-align: left\"><span style=\"color:rgb(201,152,4);font-family:monospace\">reset_sim()</span></th>\n",
    "        <th style=\"text-align: left\"><span style=\"font-weight: normal\">Reset the virtual robot to its initial pose.</span></th>\n",
    "    </tr>    \n",
    "   \n",
    "</table>\n"
   ]
  },
  {
   "cell_type": "code",
   "execution_count": 15,
   "metadata": {
    "tags": []
   },
   "outputs": [
    {
     "name": "stdout",
     "output_type": "stream",
     "text": [
      "SIGINT received. Delaying KeyboardInterrupt.\n"
     ]
    },
    {
     "ename": "CancelledError",
     "evalue": "",
     "output_type": "error",
     "traceback": [
      "\u001b[0;31m---------------------------------------------------------------------------\u001b[0m",
      "\u001b[0;31mCancelledError\u001b[0m                            Traceback (most recent call last)",
      "Cell \u001b[0;32mIn[15], line 11\u001b[0m\n\u001b[1;32m      9\u001b[0m cmdr\u001b[38;5;241m.\u001b[39mplot_odom(pose[\u001b[38;5;241m0\u001b[39m], pose[\u001b[38;5;241m1\u001b[39m])\n\u001b[1;32m     10\u001b[0m cmdr\u001b[38;5;241m.\u001b[39mplot_gt(gt_pose[\u001b[38;5;241m0\u001b[39m], gt_pose[\u001b[38;5;241m1\u001b[39m])\n\u001b[0;32m---> 11\u001b[0m \u001b[38;5;28;01mawait\u001b[39;00m asyncio\u001b[38;5;241m.\u001b[39msleep(\u001b[38;5;241m0.1\u001b[39m)\n",
      "File \u001b[0;32m/usr/lib/python3.10/asyncio/tasks.py:605\u001b[0m, in \u001b[0;36msleep\u001b[0;34m(delay, result)\u001b[0m\n\u001b[1;32m    601\u001b[0m h \u001b[38;5;241m=\u001b[39m loop\u001b[38;5;241m.\u001b[39mcall_later(delay,\n\u001b[1;32m    602\u001b[0m                     futures\u001b[38;5;241m.\u001b[39m_set_result_unless_cancelled,\n\u001b[1;32m    603\u001b[0m                     future, result)\n\u001b[1;32m    604\u001b[0m \u001b[38;5;28;01mtry\u001b[39;00m:\n\u001b[0;32m--> 605\u001b[0m     \u001b[38;5;28;01mreturn\u001b[39;00m \u001b[38;5;28;01mawait\u001b[39;00m future\n\u001b[1;32m    606\u001b[0m \u001b[38;5;28;01mfinally\u001b[39;00m:\n\u001b[1;32m    607\u001b[0m     h\u001b[38;5;241m.\u001b[39mcancel()\n",
      "\u001b[0;31mCancelledError\u001b[0m: "
     ]
    }
   ],
   "source": [
    "# Reset Plotter and Simulator\n",
    "cmdr.reset_plotter()\n",
    "cmdr.reset_sim()\n",
    "\n",
    "# Loop for pose\n",
    "while cmdr.sim_is_running() and cmdr.plotter_is_running():\n",
    "    pose, gt_pose = cmdr.get_pose()\n",
    "\n",
    "    cmdr.plot_odom(pose[0], pose[1])\n",
    "    cmdr.plot_gt(gt_pose[0], gt_pose[1])\n",
    "    await asyncio.sleep(0.1)"
   ]
  },
  {
   "cell_type": "code",
   "execution_count": 10,
   "metadata": {},
   "outputs": [
    {
     "name": "stdout",
     "output_type": "stream",
     "text": [
      "[0.15728851]\n",
      "[0.091316]\n",
      "[0.18374243]\n",
      "[0.07819439]\n",
      "[0.08146405]\n",
      "[0.17786524]\n",
      "[0.11445346]\n",
      "[0.1282689]\n",
      "[0.17835151]\n",
      "[0.08450606]\n",
      "[0.08591994]\n",
      "[0.11308393]\n",
      "[0.1108385]\n",
      "[0.10749801]\n",
      "[0.16101749]\n",
      "[0.15682028]\n",
      "[0.0913583]\n",
      "[0.50916986]\n",
      "[1.3766192]\n",
      "[2.34046361]\n",
      "[2.28192665]\n",
      "[2.28813338]\n",
      "[2.30491483]\n",
      "[2.35105142]\n",
      "[2.25629904]\n",
      "[2.29485599]\n",
      "[2.27968515]\n",
      "[2.30230346]\n",
      "[2.24437847]\n",
      "[2.26775005]\n",
      "[2.3103524]\n",
      "[2.25681951]\n",
      "[2.28650874]\n",
      "[2.27137868]\n",
      "[2.24685534]\n",
      "[2.31867058]\n"
     ]
    },
    {
     "ename": "CancelledError",
     "evalue": "",
     "output_type": "error",
     "traceback": [
      "\u001b[0;31m---------------------------------------------------------------------------\u001b[0m",
      "\u001b[0;31mCancelledError\u001b[0m                            Traceback (most recent call last)",
      "Cell \u001b[0;32mIn[10], line 5\u001b[0m\n\u001b[1;32m      3\u001b[0m sensor_values \u001b[38;5;241m=\u001b[39m cmdr\u001b[38;5;241m.\u001b[39mget_sensor()\n\u001b[1;32m      4\u001b[0m \u001b[38;5;28mprint\u001b[39m(sensor_values)\n\u001b[0;32m----> 5\u001b[0m \u001b[38;5;28;01mawait\u001b[39;00m asyncio\u001b[38;5;241m.\u001b[39msleep(\u001b[38;5;241m1\u001b[39m)\n",
      "File \u001b[0;32m/usr/lib/python3.10/asyncio/tasks.py:605\u001b[0m, in \u001b[0;36msleep\u001b[0;34m(delay, result)\u001b[0m\n\u001b[1;32m    601\u001b[0m h \u001b[38;5;241m=\u001b[39m loop\u001b[38;5;241m.\u001b[39mcall_later(delay,\n\u001b[1;32m    602\u001b[0m                     futures\u001b[38;5;241m.\u001b[39m_set_result_unless_cancelled,\n\u001b[1;32m    603\u001b[0m                     future, result)\n\u001b[1;32m    604\u001b[0m \u001b[38;5;28;01mtry\u001b[39;00m:\n\u001b[0;32m--> 605\u001b[0m     \u001b[38;5;28;01mreturn\u001b[39;00m \u001b[38;5;28;01mawait\u001b[39;00m future\n\u001b[1;32m    606\u001b[0m \u001b[38;5;28;01mfinally\u001b[39;00m:\n\u001b[1;32m    607\u001b[0m     h\u001b[38;5;241m.\u001b[39mcancel()\n",
      "\u001b[0;31mCancelledError\u001b[0m: "
     ]
    }
   ],
   "source": [
    "# Loop for sensor\n",
    "while cmdr.sim_is_running() and cmdr.plotter_is_running():\n",
    "    sensor_values = cmdr.get_sensor()\n",
    "    print(sensor_values)\n",
    "    await asyncio.sleep(1)"
   ]
  },
  {
   "cell_type": "code",
   "execution_count": 4,
   "metadata": {
    "tags": []
   },
   "outputs": [
    {
     "ename": "CancelledError",
     "evalue": "",
     "output_type": "error",
     "traceback": [
      "\u001b[0;31m---------------------------------------------------------------------------\u001b[0m",
      "\u001b[0;31mCancelledError\u001b[0m                            Traceback (most recent call last)",
      "Cell \u001b[0;32mIn[4], line 39\u001b[0m\n\u001b[1;32m     37\u001b[0m cmdr\u001b[38;5;241m.\u001b[39mplot_odom(pose[\u001b[38;5;241m0\u001b[39m], pose[\u001b[38;5;241m1\u001b[39m])\n\u001b[1;32m     38\u001b[0m cmdr\u001b[38;5;241m.\u001b[39mplot_gt(gt_pose[\u001b[38;5;241m0\u001b[39m], gt_pose[\u001b[38;5;241m1\u001b[39m])\n\u001b[0;32m---> 39\u001b[0m \u001b[38;5;28;01mawait\u001b[39;00m asyncio\u001b[38;5;241m.\u001b[39msleep(\u001b[38;5;241m0.5\u001b[39m)\n\u001b[1;32m     40\u001b[0m cmdr\u001b[38;5;241m.\u001b[39mset_vel(\u001b[38;5;241m0\u001b[39m, \u001b[38;5;241m0\u001b[39m)\n\u001b[1;32m     41\u001b[0m pose, gt_pose \u001b[38;5;241m=\u001b[39m cmdr\u001b[38;5;241m.\u001b[39mget_pose()\n",
      "File \u001b[0;32m/usr/lib/python3.10/asyncio/tasks.py:605\u001b[0m, in \u001b[0;36msleep\u001b[0;34m(delay, result)\u001b[0m\n\u001b[1;32m    601\u001b[0m h \u001b[38;5;241m=\u001b[39m loop\u001b[38;5;241m.\u001b[39mcall_later(delay,\n\u001b[1;32m    602\u001b[0m                     futures\u001b[38;5;241m.\u001b[39m_set_result_unless_cancelled,\n\u001b[1;32m    603\u001b[0m                     future, result)\n\u001b[1;32m    604\u001b[0m \u001b[38;5;28;01mtry\u001b[39;00m:\n\u001b[0;32m--> 605\u001b[0m     \u001b[38;5;28;01mreturn\u001b[39;00m \u001b[38;5;28;01mawait\u001b[39;00m future\n\u001b[1;32m    606\u001b[0m \u001b[38;5;28;01mfinally\u001b[39;00m:\n\u001b[1;32m    607\u001b[0m     h\u001b[38;5;241m.\u001b[39mcancel()\n",
      "\u001b[0;31mCancelledError\u001b[0m: "
     ]
    }
   ],
   "source": [
    "cmdr.reset_plotter()\n",
    "cmdr.reset_sim()\n",
    "\n",
    "\n",
    "while cmdr.sim_is_running() and cmdr.plotter_is_running():\n",
    "    pose, gt_pose = cmdr.get_pose()\n",
    "    cmdr.plot_odom(pose[0], pose[1])\n",
    "    cmdr.plot_gt(gt_pose[0], gt_pose[1])\n",
    "    \n",
    "    # Loop for pose\n",
    "    cmdr.set_vel(1, 0)\n",
    "    pose, gt_pose = cmdr.get_pose()\n",
    "    cmdr.plot_odom(pose[0], pose[1])\n",
    "    cmdr.plot_gt(gt_pose[0], gt_pose[1])\n",
    "    await asyncio.sleep(0.5)\n",
    "    \n",
    "    cmdr.set_vel(0, 3.14/2)\n",
    "    await asyncio.sleep(1)\n",
    "    cmdr.set_vel(1, 0)\n",
    "    pose, gt_pose = cmdr.get_pose()\n",
    "    cmdr.plot_odom(pose[0], pose[1])\n",
    "    cmdr.plot_gt(gt_pose[0], gt_pose[1])\n",
    "\n",
    "    await asyncio.sleep(0.5)\n",
    "    cmdr.set_vel(1, 0)\n",
    "    pose, gt_pose = cmdr.get_pose()\n",
    "    cmdr.plot_odom(pose[0], pose[1])\n",
    "    cmdr.plot_gt(gt_pose[0], gt_pose[1])\n",
    "    await asyncio.sleep(0.5)\n",
    "    cmdr.set_vel(0, 3.14/2)\n",
    "    pose, gt_pose = cmdr.get_pose()\n",
    "    cmdr.plot_odom(pose[0], pose[1])\n",
    "    cmdr.plot_gt(gt_pose[0], gt_pose[1])\n",
    "    await asyncio.sleep(1)\n",
    "    cmdr.set_vel(1, 0)\n",
    "    pose, gt_pose = cmdr.get_pose()\n",
    "    cmdr.plot_odom(pose[0], pose[1])\n",
    "    cmdr.plot_gt(gt_pose[0], gt_pose[1])\n",
    "    await asyncio.sleep(0.5)\n",
    "    cmdr.set_vel(0, 0)\n",
    "    pose, gt_pose = cmdr.get_pose()\n",
    "    cmdr.plot_odom(pose[0], pose[1])\n",
    "    cmdr.plot_gt(gt_pose[0], gt_pose[1])\n",
    "    await asyncio.sleep(0.1)\n",
    "\n"
   ]
  },
  {
   "cell_type": "code",
   "execution_count": 14,
   "metadata": {},
   "outputs": [
    {
     "name": "stderr",
     "output_type": "stream",
     "text": [
      "qt.qpa.wayland.input: Unexpected GestureStarted while already active\n",
      "qt.qpa.wayland.input: Unexpected GestureStarted while already active\n"
     ]
    },
    {
     "ename": "Exception",
     "evalue": "No valid data from Simulator; Simulator is probably not running!",
     "output_type": "error",
     "traceback": [
      "\u001b[0;31m---------------------------------------------------------------------------\u001b[0m",
      "\u001b[0;31mException\u001b[0m                                 Traceback (most recent call last)",
      "Cell \u001b[0;32mIn[14], line 5\u001b[0m\n\u001b[1;32m      2\u001b[0m cmdr\u001b[38;5;241m.\u001b[39mreset_sim()\n\u001b[1;32m      4\u001b[0m \u001b[38;5;28;01mwhile\u001b[39;00m cmdr\u001b[38;5;241m.\u001b[39msim_is_running() \u001b[38;5;129;01mand\u001b[39;00m cmdr\u001b[38;5;241m.\u001b[39mplotter_is_running():\n\u001b[0;32m----> 5\u001b[0m     pose, gt_pose \u001b[38;5;241m=\u001b[39m \u001b[43mcmdr\u001b[49m\u001b[38;5;241;43m.\u001b[39;49m\u001b[43mget_pose\u001b[49m\u001b[43m(\u001b[49m\u001b[43m)\u001b[49m\n\u001b[1;32m      6\u001b[0m     cmdr\u001b[38;5;241m.\u001b[39mplot_odom(pose[\u001b[38;5;241m0\u001b[39m], pose[\u001b[38;5;241m1\u001b[39m])\n\u001b[1;32m      7\u001b[0m     cmdr\u001b[38;5;241m.\u001b[39mplot_gt(gt_pose[\u001b[38;5;241m0\u001b[39m], gt_pose[\u001b[38;5;241m1\u001b[39m])\n",
      "File \u001b[0;32m~/Documents/Cornell/FAST-ROBOTS/FAST-ROBOTS-2023/FastRobots-sim-release/commander.py:178\u001b[0m, in \u001b[0;36mCommander.get_pose\u001b[0;34m(self)\u001b[0m\n\u001b[1;32m    176\u001b[0m         \u001b[38;5;66;03m# If received EMPTY_MSG\u001b[39;00m\n\u001b[1;32m    177\u001b[0m         \u001b[38;5;28;01mif\u001b[39;00m \u001b[38;5;129;01mnot\u001b[39;00m \u001b[38;5;28mself\u001b[39m\u001b[38;5;241m.\u001b[39m_is_valid_sim_data_pose(poses):\n\u001b[0;32m--> 178\u001b[0m             \u001b[38;5;28;01mraise\u001b[39;00m \u001b[38;5;167;01mException\u001b[39;00m(\u001b[38;5;124m\"\u001b[39m\u001b[38;5;124mNo valid data from Simulator; Simulator is probably not running!\u001b[39m\u001b[38;5;124m\"\u001b[39m)\n\u001b[1;32m    180\u001b[0m         \u001b[38;5;28;01mreturn\u001b[39;00m poses\n\u001b[1;32m    181\u001b[0m \u001b[38;5;28;01melse\u001b[39;00m:\n",
      "\u001b[0;31mException\u001b[0m: No valid data from Simulator; Simulator is probably not running!"
     ]
    }
   ],
   "source": [
    "cmdr.reset_plotter()\n",
    "cmdr.reset_sim()\n",
    "\n",
    "while cmdr.sim_is_running() and cmdr.plotter_is_running():\n",
    "    pose, gt_pose = cmdr.get_pose()\n",
    "    cmdr.plot_odom(pose[0], pose[1])\n",
    "    cmdr.plot_gt(gt_pose[0], gt_pose[1])\n",
    "    \n",
    "    dist_right = cmdr.get_sensor()[0]\n",
    "    right_contrib = -0.5/(dist_right * dist_right)\n",
    "    dist_left = cmdr.get_sensor()[1]\n",
    "    left_contrib = -0.5/(dist_left * dist_left)\n",
    "    \n",
    "    cmdr.set_vel(1, right_contrib + left_contrib)"
   ]
  },
  {
   "cell_type": "code",
   "execution_count": null,
   "metadata": {},
   "outputs": [],
   "source": []
  },
  {
   "cell_type": "code",
   "execution_count": null,
   "metadata": {},
   "outputs": [],
   "source": []
  }
 ],
 "metadata": {
  "kernelspec": {
   "display_name": "Python 3 (ipykernel)",
   "language": "python",
   "name": "python3"
  },
  "language_info": {
   "codemirror_mode": {
    "name": "ipython",
    "version": 3
   },
   "file_extension": ".py",
   "mimetype": "text/x-python",
   "name": "python",
   "nbconvert_exporter": "python",
   "pygments_lexer": "ipython3",
   "version": "3.10.6"
  }
 },
 "nbformat": 4,
 "nbformat_minor": 4
}
