{
 "cells": [
  {
   "cell_type": "code",
   "execution_count": 1,
   "id": "049d4e90-2d43-463f-9e1d-a9a98f71c94f",
   "metadata": {
    "tags": []
   },
   "outputs": [],
   "source": [
    "%load_ext autoreload\n",
    "%autoreload 2\n",
    "\n",
    "from ble import get_ble_controller\n",
    "from base_ble import LOG\n",
    "from cmd_types import CMD\n",
    "import time\n",
    "import numpy as np\n",
    "\n",
    "LOG.propagate = False"
   ]
  },
  {
   "cell_type": "code",
   "execution_count": 9,
   "id": "d454a645-b61b-4d98-9a7f-c671bff7ccb9",
   "metadata": {},
   "outputs": [
    {
     "name": "stdout",
     "output_type": "stream",
     "text": [
      "2023-02-11 16:26:44,485 |\u001b[32m INFO     \u001b[0m|: Looking for Artemis Nano Peripheral Device: c0:83:0c:66:2f:3c\n",
      "2023-02-11 16:26:47,724 |\u001b[31m ERROR    \u001b[0m|: failed to discover services, device disconnected\n",
      "2023-02-11 16:26:48,727 |\u001b[33m WARNING  \u001b[0m|: Attempting to connect again...\n",
      "2023-02-11 16:26:48,730 |\u001b[32m INFO     \u001b[0m|: Looking for Artemis Nano Peripheral Device: c0:83:0c:66:2f:3c\n",
      "2023-02-11 16:26:52,193 |\u001b[32m INFO     \u001b[0m|: Connected to c0:83:0c:66:2f:3c\n",
      "Test13849|206|195\n",
      "Test14103|229|193\n",
      "Test14347|145|145\n",
      "Test14602|58|54\n",
      "Test14846|28|24\n",
      "Test15099|25|23\n",
      "Test15349|17|35\n",
      "Test15597|59|80\n",
      "Test15845|167|289\n",
      "Test16093|153|151\n",
      "Test16341|240|204\n",
      "Test16589|126|94\n",
      "Test16842|22|18\n",
      "Test17091|12|28\n",
      "Test17340|62|17\n",
      "Test17587|37|22\n",
      "Test17835|18|0\n",
      "Test18085|17|22\n",
      "Test18336|30|43\n",
      "Test18581|31|42\n",
      "Test18832|28|43\n",
      "Test19085|31|46\n",
      "Test19331|52|58\n",
      "Test19579|34|53\n",
      "Test19832|33|56\n"
     ]
    }
   ],
   "source": [
    "# Get ArtemisBLEController object\n",
    "ble = get_ble_controller()\n",
    "\n",
    "# Connect to the Artemis Device\n",
    "ble.connect()\n",
    "\n",
    "def handler(sender, msg):\n",
    "    msg = msg.decode(\"utf-8\")\n",
    "    print(msg)\n",
    "\n",
    "ble.start_notify(ble.uuid['RX_STRING'], handler)\n",
    "ble.send_command(CMD.GET_TOF_DATA_5S, \"\")"
   ]
  },
  {
   "cell_type": "code",
   "execution_count": null,
   "id": "69bd40fb-9247-4be9-8a87-6d8b98a8b0eb",
   "metadata": {},
   "outputs": [],
   "source": []
  }
 ],
 "metadata": {
  "kernelspec": {
   "display_name": "Python 3 (ipykernel)",
   "language": "python",
   "name": "python3"
  },
  "language_info": {
   "codemirror_mode": {
    "name": "ipython",
    "version": 3
   },
   "file_extension": ".py",
   "mimetype": "text/x-python",
   "name": "python",
   "nbconvert_exporter": "python",
   "pygments_lexer": "ipython3",
   "version": "3.10.6"
  }
 },
 "nbformat": 4,
 "nbformat_minor": 5
}
