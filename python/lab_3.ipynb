{
 "cells": [
  {
   "cell_type": "code",
   "execution_count": 1,
   "id": "049d4e90-2d43-463f-9e1d-a9a98f71c94f",
   "metadata": {
    "tags": []
   },
   "outputs": [],
   "source": [
    "%load_ext autoreload\n",
    "%autoreload 2\n",
    "\n",
    "from ble import get_ble_controller\n",
    "from base_ble import LOG\n",
    "from cmd_types import CMD\n",
    "import time\n",
    "import numpy as np\n",
    "\n",
    "LOG.propagate = False"
   ]
  },
  {
   "cell_type": "code",
   "execution_count": 10,
   "id": "d454a645-b61b-4d98-9a7f-c671bff7ccb9",
   "metadata": {},
   "outputs": [
    {
     "name": "stdout",
     "output_type": "stream",
     "text": [
      "2023-02-11 16:27:19,862 |\u001b[32m INFO     \u001b[0m|: Already connected to a BLE device\n",
      "41544|28|61\n",
      "41791|30|61\n",
      "42044|30|61\n",
      "42293|31|60\n",
      "42538|30|60\n",
      "42787|31|59\n",
      "43040|31|59\n",
      "43290|28|60\n",
      "43539|30|59\n",
      "43783|28|60\n",
      "44032|28|62\n",
      "44284|30|61\n",
      "44530|29|60\n",
      "44780|29|61\n",
      "45032|27|60\n",
      "45277|31|60\n",
      "45526|28|63\n",
      "45780|27|62\n",
      "46027|27|60\n",
      "46274|28|59\n",
      "46522|28|60\n",
      "46778|25|62\n",
      "47020|29|60\n",
      "47272|26|63\n",
      "47522|23|61\n",
      "2023-02-11 16:27:58,510 |\u001b[32m INFO     \u001b[0m|: Disconnected from C0:83:0C:66:2F:3C\n"
     ]
    }
   ],
   "source": [
    "# Get ArtemisBLEController object\n",
    "ble = get_ble_controller()\n",
    "\n",
    "# Connect to the Artemis Device\n",
    "ble.connect()\n",
    "\n",
    "def handler(sender, msg):\n",
    "    msg = msg.decode(\"utf-8\")\n",
    "    print(msg)\n",
    "\n",
    "ble.start_notify(ble.uuid['RX_STRING'], handler)\n",
    "ble.send_command(CMD.GET_TOF_DATA_5S, \"\")"
   ]
  },
  {
   "cell_type": "code",
   "execution_count": null,
   "id": "69bd40fb-9247-4be9-8a87-6d8b98a8b0eb",
   "metadata": {},
   "outputs": [],
   "source": []
  }
 ],
 "metadata": {
  "kernelspec": {
   "display_name": "Python 3 (ipykernel)",
   "language": "python",
   "name": "python3"
  },
  "language_info": {
   "codemirror_mode": {
    "name": "ipython",
    "version": 3
   },
   "file_extension": ".py",
   "mimetype": "text/x-python",
   "name": "python",
   "nbconvert_exporter": "python",
   "pygments_lexer": "ipython3",
   "version": "3.10.6"
  }
 },
 "nbformat": 4,
 "nbformat_minor": 5
}
