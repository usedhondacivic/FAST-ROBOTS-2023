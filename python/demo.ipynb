{
 "cells": [
  {
   "cell_type": "markdown",
   "metadata": {},
   "source": [
    "## Import necessary modules\n",
    "Run this cell before running any other cells"
   ]
  },
  {
   "cell_type": "code",
   "execution_count": 1,
   "metadata": {
    "tags": []
   },
   "outputs": [],
   "source": [
    "%load_ext autoreload\n",
    "%autoreload 2\n",
    "\n",
    "from ble import get_ble_controller\n",
    "from base_ble import LOG\n",
    "from cmd_types import CMD\n",
    "import time\n",
    "import numpy as np\n",
    "\n",
    "LOG.propagate = False"
   ]
  },
  {
   "cell_type": "markdown",
   "metadata": {},
   "source": [
    "# Printing and Logging\n",
    "## Printing\n",
    "You can use the **print()** function in Python to print messages to the screen. <br>\n",
    "The message can be a string, or any other object, the object will be converted into a string before it is written to the screen. <br>\n",
    "\n",
    "## Logging\n",
    "You could use the logging module that is setup in *utils.py*. <br>\n",
    "It prints to both your screen (standard output) as well as to log files (*ble.log*) in the *logs* directory. <br>\n",
    "This is the recommended way to output messages, since the log files can help with debugging. <br>\n",
    "The logging module also provides different log levels as shown below, each formatted with a different color for increased visibility. <br>\n",
    "\n",
    "__**NOTE**__: You may notice that the DEBUG message is not printed to the screen but is printed in the log file. This is because the logging level for the screen is set to INFO and for the file is set to DEBUG. You can change the default log levels in *utils.py* (**STREAM_LOG_LEVEL** and **FILE_LOG_LEVEL**). \n",
    "\n",
    "## Formatting output\n",
    "To format your strings, you may use %-formatting, str.format() or f-strings. <br>\n",
    "The most \"pythonic\" way would be to use f-strings. [Here](https://realpython.com/python-f-strings/) is a good tutorial on f-strings. <br>"
   ]
  },
  {
   "cell_type": "code",
   "execution_count": 2,
   "metadata": {
    "tags": []
   },
   "outputs": [
    {
     "name": "stdout",
     "output_type": "stream",
     "text": [
      "2023-02-04 16:16:00,230 |\u001b[32m INFO     \u001b[0m|: info\n",
      "2023-02-04 16:16:00,231 |\u001b[33m WARNING  \u001b[0m|: warning\n",
      "2023-02-04 16:16:00,232 |\u001b[31m ERROR    \u001b[0m|: error\n",
      "2023-02-04 16:16:00,233 |\u001b[31m\u001b[47m\u001b[1m CRITICAL \u001b[0m|: critical\n"
     ]
    }
   ],
   "source": [
    "LOG.debug(\"debug\")\n",
    "LOG.info(\"info\")\n",
    "LOG.warning(\"warning\")\n",
    "LOG.error(\"error\")\n",
    "LOG.critical(\"critical\")"
   ]
  },
  {
   "cell_type": "markdown",
   "metadata": {},
   "source": [
    "<hr>\n",
    "\n",
    "# BLE\n",
    "## ArtemisBLEController\n",
    "The class **ArtemisBLEController** (defined in *ble.py*) provides member functions to handle various BLE operations to send and receive data to/from the Artemis board, provided the accompanying Arduino sketch is running on the Artemis board. <br>\n",
    "\n",
    "<table align=\"left\">\n",
    "     <tr>\n",
    "        <th style=\"text-align: left; font-size: medium\">Member Functions</th>\n",
    "        <th style=\"text-align: left; font-size: medium\">Description</th style=\"text-align: left\">\n",
    "    </tr>\n",
    "    <tr>\n",
    "        <th style=\"text-align: left\"><span style=\"color:rgb(201,152,4);font-family:monospace\">reload_config()</span></th>\n",
    "        <th style=\"text-align: left\"><span style=\"font-weight: normal\">Reload changes made in <em>connection.yaml.</em></span></th style=\"text-align: left\">\n",
    "    </tr>\n",
    "    <tr>\n",
    "        <th style=\"text-align: left\"><span style=\"color:rgb(201,152,4);font-family:monospace\">connect()</span></th>\n",
    "        <th style=\"text-align: left\"><span style=\"font-weight: normal\">Connect to the Artemis board, whose MAC address is specified in <em>connection.yaml</em>.</span></th>\n",
    "    </tr>\n",
    "    <tr>\n",
    "        <th style=\"text-align: left\"><span style=\"color:rgb(201,152,4);font-family:monospace\">disconnect()</span></th>\n",
    "        <th style=\"text-align: left\"><span style=\"font-weight: normal\">Disconnect from the Artemis board.</span></th>\n",
    "    </tr>\n",
    "    <tr>\n",
    "        <th style=\"text-align: left\"><span style=\"color:rgb(201,152,4);font-family:monospace\">is_connected()</span></th>\n",
    "        <th style=\"text-align: left\"><span style=\"font-weight: normal\">Return a boolean indicating whether your controller is connected to the Artemis board or not.</span></th>\n",
    "    </tr>\n",
    "    <tr>\n",
    "        <th style=\"text-align: left\"><span style=\"color:rgb(201,152,4);font-family:monospace\">send_command(cmd_type, data)</span></th>\n",
    "        <th style=\"text-align: left\"><span style=\"font-weight: normal\">Send the command <strong>cmd_type</strong> (integer) with <strong>data</strong> (string) to the Artemis board.</span></th>\n",
    "    </tr>\n",
    "    <tr>\n",
    "        <th style=\"text-align: left\"><span style=\"color:rgb(201,152,4);font-family:monospace\">receive_float(uuid) <br> receive_string(uuid) <br> receive_int(uuid)</span></th>\n",
    "        <th style=\"text-align: left\"><span style=\"font-weight: normal\">Read the GATT characteristic (specified by its <strong>uuid</strong>) of type float, string or int. <br> The type of the GATT\n",
    "            characteristic is determined by the classes BLEFloatCharacteristic, BLECStringCharacteristic or\n",
    "            BLEIntCharacteristic in the Arduino sketch.</span></th>\n",
    "    </tr>\n",
    "    <tr>\n",
    "        <th style=\"text-align: left\"><span style=\"color:rgb(201,152,4);font-family:monospace\">start_notify(uuid, notification_handler)</span></th>\n",
    "        <th style=\"text-align: left\"><span style=\"font-weight: normal\">Activate notifications on the GATT characteristic (specified by its <strong>uuid</strong>). <br> <strong>notification_handler</strong> is a\n",
    "            function callback which must accept two inputs; the first will be a uuid string object and the second will\n",
    "            be the bytearray of the characteristic value.</span></th>\n",
    "    </tr>\n",
    "    <tr>\n",
    "        <th style=\"text-align: left\"><span style=\"color:rgb(201,152,4);font-family:monospace\">bytearray_to_float(byte_array) <br> bytearray_to_string(byte_array) <br> bytearray_to_int(byte_array)</span></th>\n",
    "        <th style=\"text-align: left\"><span style=\"font-weight: normal\">Convert the <strong>bytearray</strong> to float, string or int, respectively. <br> You may use these functions inside your\n",
    "            notification callback function.</span></th>\n",
    "    </tr>\n",
    "    <tr>\n",
    "        <th style=\"text-align: left\"><span style=\"color:rgb(201,152,4);font-family:monospace\">stop_notify(uuid)</span></th>\n",
    "        <th style=\"text-align: left\"><span style=\"font-weight: normal\">Stop notifications on the GATT characteristic (specified by its <strong>uuid</strong>).</span></th>\n",
    "    </tr>\n",
    "</table>\n",
    "\n",
    "<table align=\"left\">\n",
    "     <tr>\n",
    "        <th style=\"text-align: left; font-size: medium\">Member Variables</th>\n",
    "        <th style=\"text-align: left; font-size: medium\">Description</th style=\"text-align: left\">\n",
    "    </tr>\n",
    "    <tr>\n",
    "        <th style=\"text-align: left\"><span style=\"color:rgb(201,152,4);font-family:monospace\">uuid</span></th>\n",
    "        <th style=\"text-align: left\"><span style=\"font-weight: normal\">A dictionary that stores the UUIDs of the various characteristics specified in <em>connection.yaml</em>.</span></th>\n",
    "    </tr>\n",
    "</table>"
   ]
  },
  {
   "cell_type": "markdown",
   "metadata": {},
   "source": [
    "## Configuration\n",
    "- The MAC address, Service UUID and GATT characteristic UUIDs are defined in the file: *connection.yaml*.\n",
    "- They should match the UUIDs used in the Arduino sketch.\n",
    "- The artemis board running the base code should display its MAC address in the serial monitor.\n",
    "- Update the **artemis_address** in *connection.yaml*, accordingly.\n",
    "- Make sure to call **ble.reload_config()** or **get_ble_controller()** (which internally calls **reload_config()**) after making any changes to your configuration file.\n",
    "\n",
    "<hr>"
   ]
  },
  {
   "cell_type": "code",
   "execution_count": 3,
   "metadata": {
    "tags": []
   },
   "outputs": [
    {
     "name": "stdout",
     "output_type": "stream",
     "text": [
      "e0dccea4-f3ea-43c4-aeda-ae1734294918\n",
      "\n",
      "a2ed6bad-2c9e-4326-ab63-d354147f4cf1\n",
      "\n",
      "875f41fa-540b-4c32-a3d5-bd70b9675248\n",
      "\n",
      "01dbc6ad-0ff8-441a-9011-8618d0fcc0ab\n",
      "\n"
     ]
    }
   ],
   "source": [
    "from uuid import uuid4\n",
    "for i in range(4):\n",
    "    print(str(uuid4())+ \"\\n\")\n",
    "    "
   ]
  },
  {
   "cell_type": "markdown",
   "metadata": {},
   "source": [
    "In the below cell, we create an **ArtemisBLEController** object using **get_ble_controller()** (defined in *ble.py*), which creates and/or returns a single instance of **ArtemisBLEController**. <br>\n",
    "<span style=\"color:rgb(240,50,50)\"> __NOTE__: Do not use the class directly to instantiate an object. </span><br>"
   ]
  },
  {
   "cell_type": "code",
   "execution_count": 23,
   "metadata": {},
   "outputs": [
    {
     "name": "stdout",
     "output_type": "stream",
     "text": [
      "2023-02-04 17:43:46,504 |\u001b[32m INFO     \u001b[0m|: Looking for Artemis Nano Peripheral Device: c0:83:0c:66:2f:3c\n",
      "2023-02-04 17:43:51,635 |\u001b[32m INFO     \u001b[0m|: Connected to c0:83:0c:66:2f:3c\n"
     ]
    }
   ],
   "source": [
    "# Get ArtemisBLEController object\n",
    "ble = get_ble_controller()\n",
    "\n",
    "# Connect to the Artemis Device\n",
    "ble.connect()"
   ]
  },
  {
   "cell_type": "markdown",
   "metadata": {},
   "source": [
    "## Receive data from the Artemis board"
   ]
  },
  {
   "cell_type": "markdown",
   "metadata": {},
   "source": [
    "The cell below shows examples of reading different types (as defined in the Arduino sketch) of GATT characteristics."
   ]
  },
  {
   "cell_type": "code",
   "execution_count": 24,
   "metadata": {},
   "outputs": [
    {
     "name": "stdout",
     "output_type": "stream",
     "text": [
      "5.5\n"
     ]
    }
   ],
   "source": [
    "# Read a float GATT Charactersistic\n",
    "f = ble.receive_float(ble.uuid['RX_FLOAT'])\n",
    "print(f)"
   ]
  },
  {
   "cell_type": "code",
   "execution_count": 25,
   "metadata": {},
   "outputs": [
    {
     "name": "stdout",
     "output_type": "stream",
     "text": [
      "[->9.0<-]\n"
     ]
    }
   ],
   "source": [
    "# Read a string GATT Charactersistic\n",
    "s = ble.receive_string(ble.uuid['RX_STRING'])\n",
    "print(s)"
   ]
  },
  {
   "cell_type": "markdown",
   "metadata": {},
   "source": [
    "## Send a command to the Artemis board\n",
    "Send the PING command and read the reply string from the string characteristic RX_STRING. <br>\n",
    "__NOTE__: The **send_command()** essentially sends a string data to the GATT characteristic (TX_CMD_STRING). The GATT characteristic in the Arduino sketch is of type BLECStringCharacteristic."
   ]
  },
  {
   "cell_type": "code",
   "execution_count": 26,
   "metadata": {},
   "outputs": [],
   "source": [
    "ble.send_command(CMD.PING, \"\")"
   ]
  },
  {
   "cell_type": "code",
   "execution_count": 27,
   "metadata": {},
   "outputs": [
    {
     "name": "stdout",
     "output_type": "stream",
     "text": [
      "PONG\n"
     ]
    }
   ],
   "source": [
    "s = ble.receive_string(ble.uuid['RX_STRING'])\n",
    "print(s)"
   ]
  },
  {
   "cell_type": "markdown",
   "metadata": {},
   "source": [
    "The cell below shows an example of the SEND_TWO_INTS command. <br> The two values in the **data** are separated by a delimiter \"|\". <br>\n",
    "Refer Lab 2 documentation for more information on the command protocol."
   ]
  },
  {
   "cell_type": "code",
   "execution_count": 21,
   "metadata": {},
   "outputs": [
    {
     "name": "stdout",
     "output_type": "stream",
     "text": [
      "2023-02-04 17:46:10,631 |\u001b[32m INFO     \u001b[0m|: Disconnected from C0:83:0C:66:2F:3C\n"
     ]
    }
   ],
   "source": [
    "ble.send_command(CMD.SEND_TWO_INTS, \"2|-6\")"
   ]
  },
  {
   "cell_type": "markdown",
   "metadata": {},
   "source": [
    "The Artemis board should print the two integers to the serial monitor in the ArduinoIDE. "
   ]
  },
  {
   "cell_type": "code",
   "execution_count": 32,
   "metadata": {},
   "outputs": [
    {
     "name": "stdout",
     "output_type": "stream",
     "text": [
      "2023-02-04 18:13:33,164 |\u001b[32m INFO     \u001b[0m|: Already connected to a BLE device\n",
      "ECHO TEST\n",
      "Sent: 'Hello Artemis'\n",
      "Time: )\n",
      "Time: )\n",
      "Got back: \n",
      "Robot says -> Hello Artemis! :)\n",
      "\n",
      "\n",
      "\n",
      "GET_TIME_MILLIS TEST\n",
      "Time: 1803043.0\n"
     ]
    }
   ],
   "source": [
    "# Get ArtemisBLEController object\n",
    "ble = get_ble_controller()\n",
    "\n",
    "# Connect to the Artemis Device\n",
    "ble.connect()\n",
    "\n",
    "print(\"ECHO TEST\")\n",
    "ble.send_command(CMD.ECHO, \"Hello Artemis!\")\n",
    "print(\"Sent: 'Hello Artemis'\")\n",
    "\n",
    "# Read a string GATT Charactersistic\n",
    "s = ble.receive_string(ble.uuid['RX_STRING'])\n",
    "print(\"Got back: \")\n",
    "print(s)\n",
    "print(\"\\n\\n\")\n",
    "\n",
    "print(\"GET_TIME_MILLIS TEST\")\n",
    "\n",
    "def handler(sender, time_stamp):\n",
    "    time = time_stamp.decode(\"utf-8\").split(\":\")[1]\n",
    "    print(\"Time: \"+time)\n",
    "\n",
    "ble.start_notify(ble.uuid['RX_STRING'], handler)\n",
    "\n",
    "ble.send_command(CMD.GET_TIME_MILLIS, \"\")\n"
   ]
  },
  {
   "cell_type": "code",
   "execution_count": 36,
   "metadata": {
    "tags": []
   },
   "outputs": [
    {
     "name": "stdout",
     "output_type": "stream",
     "text": [
      "2023-02-04 18:15:33,080 |\u001b[32m INFO     \u001b[0m|: Already connected to a BLE device\n",
      "TIME STAMP HANDLER TEST\n",
      "1923253.0\n",
      "1923343.0\n",
      "1923437.0\n"
     ]
    }
   ],
   "source": [
    "# Get ArtemisBLEController object\n",
    "ble = get_ble_controller()\n",
    "\n",
    "# Connect to the Artemis Device\n",
    "ble.connect()\n",
    "\n",
    "print(\"TIME STAMP HANDLER TEST\")\n",
    "\n",
    "def handler(sender, time_stamp):\n",
    "    time_stamp = time_stamp.decode(\"utf-8\")\n",
    "    time_stamp = time_stamp.split(\":\")[1]\n",
    "    print(time_stamp)\n",
    "    \n",
    "ble.start_notify(ble.uuid['RX_STRING'], handler)\n",
    "\n",
    "ble.send_command(CMD.GET_TIME_MILLIS, \"\")\n",
    "ble.send_command(CMD.GET_TIME_MILLIS, \"\")\n",
    "ble.send_command(CMD.GET_TIME_MILLIS, \"\")"
   ]
  },
  {
   "cell_type": "code",
   "execution_count": 37,
   "metadata": {
    "tags": []
   },
   "outputs": [
    {
     "name": "stdout",
     "output_type": "stream",
     "text": [
      "2023-02-04 18:18:04,106 |\u001b[32m INFO     \u001b[0m|: Already connected to a BLE device\n",
      "GET_TEMP_5S TEST\n",
      "Time: 2074998.0 | Temp: 68.928\n",
      "Time: 2075998.0 | Temp: 69.986\n",
      "Time: 2076998.0 | Temp: 68.928\n",
      "Time: 2077998.0 | Temp: 68.928\n",
      "Time: 2078998.0 | Temp: 68.928\n",
      "2023-02-04 18:27:15,796 |\u001b[32m INFO     \u001b[0m|: Disconnected from C0:83:0C:66:2F:3C\n"
     ]
    }
   ],
   "source": [
    "# Get ArtemisBLEController object\n",
    "ble = get_ble_controller()\n",
    "\n",
    "# Connect to the Artemis Device\n",
    "ble.connect()\n",
    "\n",
    "print(\"GET_TEMP_5S TEST\")\n",
    "\n",
    "temps_arr = []\n",
    "\n",
    "def handler(sender, time_stamp_array):\n",
    "    time_stamp_array = time_stamp_array.decode(\"utf-8\")\n",
    "    time_stamp_array = time_stamp_array.split(\"|\")\n",
    "    time = time_stamp_array[0].split(\":\")[1]\n",
    "    temp = time_stamp_array[1].split(\":\")[1]\n",
    "    temps_arr.append(\"Time: \" + time + \" | Temp: \" + temp)\n",
    "    print(temps_arr[len(temps_arr)-1])\n",
    "\n",
    "ble.start_notify(ble.uuid['RX_STRING'], handler)\n",
    "\n",
    "ble.send_command(CMD.GET_TEMP_5S, \"\")\n"
   ]
  },
  {
   "cell_type": "code",
   "execution_count": 9,
   "metadata": {
    "tags": []
   },
   "outputs": [
    {
     "name": "stdout",
     "output_type": "stream",
     "text": [
      "2023-02-04 16:39:39,049 |\u001b[32m INFO     \u001b[0m|: Looking for Artemis Nano Peripheral Device: c0:83:0c:66:2f:3c\n",
      "2023-02-04 16:39:42,288 |\u001b[32m INFO     \u001b[0m|: Connected to c0:83:0c:66:2f:3c\n",
      "GET_TEMP_5S_RAPID TEST\n",
      "Time: 8232.0 | Temp: 78.446\n",
      "Time: 8282.0 | Temp: 77.389\n",
      "Time: 8332.0 | Temp: 78.446\n",
      "Time: 8382.0 | Temp: 78.446\n",
      "Time: 8432.0 | Temp: 78.446\n",
      "Time: 8482.0 | Temp: 77.389\n",
      "Time: 8532.0 | Temp: 77.389\n",
      "Time: 8582.0 | Temp: 77.389\n",
      "Time: 8632.0 | Temp: 76.331\n",
      "Time: 8682.0 | Temp: 78.446\n",
      "Time: 8732.0 | Temp: 77.389\n",
      "Time: 8782.0 | Temp: 77.389\n",
      "Time: 8832.0 | Temp: 78.446\n",
      "Time: 8882.0 | Temp: 78.446\n",
      "Time: 8932.0 | Temp: 77.389\n",
      "Time: 8982.0 | Temp: 77.389\n",
      "Time: 9032.0 | Temp: 77.389\n",
      "Time: 9082.0 | Temp: 77.389\n",
      "Time: 9132.0 | Temp: 77.389\n",
      "Time: 9182.0 | Temp: 77.389\n",
      "Time: 9232.0 | Temp: 78.446\n",
      "Time: 9282.0 | Temp: 77.389\n",
      "Time: 9332.0 | Temp: 78.446\n",
      "Time: 9382.0 | Temp: 78.446\n",
      "Time: 9432.0 | Temp: 77.389\n",
      "Time: 9482.0 | Temp: 78.446\n",
      "Time: 9532.0 | Temp: 78.446\n",
      "Time: 9582.0 | Temp: 78.446\n",
      "Time: 9632.0 | Temp: 77.389\n",
      "Time: 9682.0 | Temp: 78.446\n",
      "Time: 9732.0 | Temp: 77.389\n",
      "Time: 9782.0 | Temp: 77.389\n",
      "Time: 9832.0 | Temp: 78.446\n",
      "Time: 9882.0 | Temp: 77.389\n",
      "Time: 9932.0 | Temp: 76.331\n",
      "Time: 9982.0 | Temp: 77.389\n",
      "Time: 10032.0 | Temp: 78.446\n",
      "Time: 10082.0 | Temp: 78.446\n",
      "Time: 10132.0 | Temp: 78.446\n",
      "Time: 10182.0 | Temp: 79.504\n",
      "Time: 10232.0 | Temp: 77.389\n",
      "Time: 10282.0 | Temp: 77.389\n",
      "Time: 10332.0 | Temp: 78.446\n",
      "Time: 10382.0 | Temp: 77.389\n",
      "Time: 10432.0 | Temp: 79.504\n",
      "Time: 10482.0 | Temp: 77.389\n",
      "Time: 10532.0 | Temp: 78.446\n",
      "Time: 10582.0 | Temp: 77.389\n",
      "Time: 10632.0 | Temp: 77.389\n",
      "Time: 10682.0 | Temp: 77.389\n",
      "Time: 10732.0 | Temp: 77.389\n",
      "Time: 10782.0 | Temp: 77.389\n",
      "Time: 10832.0 | Temp: 77.389\n",
      "Time: 10882.0 | Temp: 77.389\n",
      "Time: 10932.0 | Temp: 78.446\n",
      "Time: 10982.0 | Temp: 77.389\n",
      "Time: 11032.0 | Temp: 77.389\n",
      "Time: 11082.0 | Temp: 77.389\n",
      "Time: 11132.0 | Temp: 77.389\n",
      "Time: 11182.0 | Temp: 77.389\n",
      "Time: 11232.0 | Temp: 77.389\n",
      "Time: 11282.0 | Temp: 77.389\n",
      "Time: 11332.0 | Temp: 77.389\n",
      "Time: 11382.0 | Temp: 77.389\n",
      "Time: 11432.0 | Temp: 77.389\n",
      "Time: 11482.0 | Temp: 77.389\n",
      "Time: 11532.0 | Temp: 77.389\n",
      "Time: 11582.0 | Temp: 78.446\n",
      "Time: 11632.0 | Temp: 78.446\n",
      "Time: 11682.0 | Temp: 77.389\n",
      "Time: 11732.0 | Temp: 77.389\n",
      "Time: 11782.0 | Temp: 77.389\n",
      "Time: 11832.0 | Temp: 76.331\n",
      "Time: 11882.0 | Temp: 77.389\n",
      "Time: 11932.0 | Temp: 77.389\n",
      "Time: 11982.0 | Temp: 77.389\n",
      "Time: 12032.0 | Temp: 77.389\n",
      "Time: 12082.0 | Temp: 78.446\n",
      "Time: 12132.0 | Temp: 77.389\n",
      "Time: 12182.0 | Temp: 77.389\n",
      "Time: 12232.0 | Temp: 78.446\n",
      "Time: 12282.0 | Temp: 77.389\n",
      "Time: 12332.0 | Temp: 77.389\n",
      "Time: 12382.0 | Temp: 77.389\n",
      "Time: 12432.0 | Temp: 78.446\n",
      "Time: 12482.0 | Temp: 78.446\n",
      "Time: 12532.0 | Temp: 77.389\n",
      "Time: 12582.0 | Temp: 77.389\n",
      "Time: 12632.0 | Temp: 77.389\n",
      "Time: 12682.0 | Temp: 77.389\n",
      "Time: 12732.0 | Temp: 77.389\n",
      "Time: 12782.0 | Temp: 77.389\n",
      "Time: 12832.0 | Temp: 77.389\n",
      "Time: 12882.0 | Temp: 77.389\n",
      "Time: 12932.0 | Temp: 77.389\n",
      "Time: 12982.0 | Temp: 78.446\n",
      "Time: 13032.0 | Temp: 78.446\n",
      "Time: 13082.0 | Temp: 77.389\n",
      "Time: 13132.0 | Temp: 78.446\n",
      "Time: 13182.0 | Temp: 77.389\n",
      "2023-02-04 16:53:17,775 |\u001b[32m INFO     \u001b[0m|: Disconnected from C0:83:0C:66:2F:3C\n"
     ]
    }
   ],
   "source": [
    "# Get ArtemisBLEController object\n",
    "ble = get_ble_controller()\n",
    "\n",
    "# Connect to the Artemis Device\n",
    "ble.connect()\n",
    "\n",
    "print(\"GET_TEMP_5S_RAPID TEST\")\n",
    "\n",
    "temps_arr = []\n",
    "\n",
    "def handler(sender, time_stamp_array):\n",
    "    time_stamp_array = time_stamp_array.decode(\"utf-8\")\n",
    "    time_stamp_array = time_stamp_array.split(\"|\")\n",
    "    time = time_stamp_array[0].split(\":\")[1]\n",
    "    temp = time_stamp_array[1].split(\":\")[1]\n",
    "    temps_arr.append(\"Time: \" + time + \" | Temp: \" + temp)\n",
    "    print(temps_arr[len(temps_arr)-1])\n",
    "\n",
    "ble.start_notify(ble.uuid['RX_STRING'], handler)\n",
    "\n",
    "ble.send_command(CMD.GET_TEMP_5S_RAPID, \"\")"
   ]
  },
  {
   "cell_type": "markdown",
   "metadata": {},
   "source": [
    "## Disconnect"
   ]
  },
  {
   "cell_type": "code",
   "execution_count": 6,
   "metadata": {
    "tags": []
   },
   "outputs": [],
   "source": [
    "# Disconnect\n",
    "# ble.disconnect()"
   ]
  },
  {
   "cell_type": "code",
   "execution_count": null,
   "metadata": {},
   "outputs": [],
   "source": []
  }
 ],
 "metadata": {
  "kernelspec": {
   "display_name": "Python 3 (ipykernel)",
   "language": "python",
   "name": "python3"
  },
  "language_info": {
   "codemirror_mode": {
    "name": "ipython",
    "version": 3
   },
   "file_extension": ".py",
   "mimetype": "text/x-python",
   "name": "python",
   "nbconvert_exporter": "python",
   "pygments_lexer": "ipython3",
   "version": "3.10.6"
  }
 },
 "nbformat": 4,
 "nbformat_minor": 4
}
